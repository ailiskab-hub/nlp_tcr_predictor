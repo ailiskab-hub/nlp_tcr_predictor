{
 "cells": [
  {
   "cell_type": "code",
   "execution_count": 2,
   "id": "fcb420c8-ac1d-4d35-86c4-1a4985c68cc1",
   "metadata": {},
   "outputs": [
    {
     "name": "stdout",
     "output_type": "stream",
     "text": [
      "There are 1 GPU(s) available.\n",
      "We will use the GPU: Tesla V100S-PCIE-32GB\n"
     ]
    }
   ],
   "source": [
    "import os.path\n",
    "# os.environ['CUDA_LAUNCH_BLOCKING'] = \"1\"\n",
    "os.environ[\"PYTORCH_USE_CUDA_DSA\"] = \"1\"\n",
    "\n",
    "\n",
    "import numpy as np\n",
    "import pandas as pd\n",
    "import matplotlib.pyplot as plt\n",
    "import seaborn as sns\n",
    "import random\n",
    "import re\n",
    "import torch\n",
    "from tqdm import tqdm\n",
    "from sklearn.preprocessing import MinMaxScaler\n",
    "\n",
    "from sklearn.utils import resample\n",
    "from sklearn.metrics import f1_score, accuracy_score, precision_score, recall_score\n",
    "from sklearn.preprocessing import LabelEncoder\n",
    "from sklearn.model_selection import train_test_split\n",
    "\n",
    "from torch.utils.data import DataLoader\n",
    "\n",
    "if torch.cuda.is_available():\n",
    "    device = torch.device(\"cuda\")\n",
    "    print('There are %d GPU(s) available.' % torch.cuda.device_count())\n",
    "    print('We will use the GPU:', torch.cuda.get_device_name(0))\n",
    "\n",
    "else:\n",
    "    print('No GPU available, using the CPU instead.')\n",
    "    device = torch.device(\"cpu\")\n"
   ]
  },
  {
   "cell_type": "code",
   "execution_count": 3,
   "id": "32139abc-95b1-4707-9fc1-0517b3bfa4c8",
   "metadata": {},
   "outputs": [
    {
     "name": "stdout",
     "output_type": "stream",
     "text": [
      "[2024-05-07 01:54:27,373] [INFO] [real_accelerator.py:191:get_accelerator] Setting ds_accelerator to cuda (auto detect)\n"
     ]
    }
   ],
   "source": [
    "from my_model import CustomModel, PT5_classification_model, create_dataset, load_model_"
   ]
  },
  {
   "cell_type": "code",
   "execution_count": 4,
   "id": "4c995732-62ca-49a0-9c59-b8c6a203798f",
   "metadata": {},
   "outputs": [],
   "source": [
    "from utilites import MyLabelEncoder, add_spaces, balance_majority"
   ]
  },
  {
   "cell_type": "code",
   "execution_count": 5,
   "id": "d4165457-6fb5-4484-9035-a2a0782493a0",
   "metadata": {},
   "outputs": [],
   "source": [
    "from EpiNet import EpiTEINet"
   ]
  },
  {
   "cell_type": "code",
   "execution_count": 6,
   "id": "0793b7f2-60a2-426a-add3-59486ee0d45f",
   "metadata": {},
   "outputs": [],
   "source": [
    "from TCRpeg import TCRpeg"
   ]
  },
  {
   "cell_type": "code",
   "execution_count": 7,
   "id": "91c3fa42-096d-45ea-9c14-46d2c84a8280",
   "metadata": {},
   "outputs": [],
   "source": [
    "def random_recombination(df, column_name, epitope_dist, tcr_dist, ratio):\n",
    "    unique_epitopes = df['antigen.epitope'].unique()\n",
    "    unique_tcrs = df[column_name].unique()\n",
    "    conversion_df = df[['antigen.epitope', column_name]]\n",
    "    positive_pairs = set([tuple(x) for x in conversion_df.to_numpy()])\n",
    "\n",
    "    # We want to weight the tcr choice by frequency in data\n",
    "    epitope_freq_array = [epitope_dist[peptide] / len(df) for peptide in unique_epitopes]\n",
    "    tcr_freq_array = [tcr_dist[tcr] / len(df) for tcr in unique_tcrs]\n",
    "    \n",
    "    neg_pairs = set()\n",
    "    for pep in unique_epitopes:\n",
    "        i = 0\n",
    "        pairs_to_generate = round(epitope_dist[pep] * ratio)\n",
    "        while i < pairs_to_generate:\n",
    "            tcr = np.random.choice(unique_tcrs, p=tcr_freq_array)\n",
    "            pair = (pep, tcr)\n",
    "            if pair not in positive_pairs and pair not in neg_pairs:\n",
    "                neg_pairs.add(pair)\n",
    "                i += 1\n",
    "            \n",
    "    negative_data = pd.DataFrame(neg_pairs, columns = ['antigen.epitope', column_name])\n",
    "    negative_data = negative_data.assign(affinity=0)\n",
    "    return negative_data\n",
    "\n",
    "def conc_tensors(tensor1, tensor2):\n",
    "    tensor1_squeezed = tensor1.squeeze(1)\n",
    "    combined_tensor = torch.cat((tensor1_squeezed, tensor2), dim=0)\n",
    "    return combined_tensor"
   ]
  },
  {
   "cell_type": "code",
   "execution_count": 8,
   "id": "ee49509b-d2bc-4e1c-b29c-1d4e2aa4171e",
   "metadata": {},
   "outputs": [],
   "source": [
    "model_epi = TCRpeg(hidden_size=768,num_layers = 3,load_data=False,embedding_path='aa_emb_epi.txt')\n",
    "model_epi.create_model(load=True, path = 'encoder_epi.pth')"
   ]
  },
  {
   "cell_type": "code",
   "execution_count": 9,
   "id": "eca1a8d4-40d4-4648-b6e8-42dac2674d9a",
   "metadata": {},
   "outputs": [],
   "source": [
    "model = EpiTEINet(en_epi = model_epi,cat_size=768*2,normalize=True,weight_decay = 0).to(device)"
   ]
  },
  {
   "cell_type": "code",
   "execution_count": 10,
   "id": "0c0b1804-7a7e-4302-a45a-654eeebd1047",
   "metadata": {},
   "outputs": [
    {
     "data": {
      "text/plain": [
       "torch.Size([1, 768])"
      ]
     },
     "execution_count": 10,
     "metadata": {},
     "output_type": "execute_result"
    }
   ],
   "source": [
    "# epi_emb = \n",
    "model.get_emb(['KLGGALQAK'], model_epi, model_epi.model).shape"
   ]
  },
  {
   "cell_type": "code",
   "execution_count": 11,
   "id": "23b6ad5b-a384-42e8-86cc-126c88831689",
   "metadata": {},
   "outputs": [],
   "source": [
    "vdjdb = pd.read_csv('../data/vdjdb_full.txt', sep='\\t', low_memory=False)"
   ]
  },
  {
   "cell_type": "code",
   "execution_count": null,
   "id": "4baf577d-70e1-4bb8-851e-7a5ecdff7dca",
   "metadata": {},
   "outputs": [],
   "source": []
  },
  {
   "cell_type": "code",
   "execution_count": 12,
   "id": "e28d17d0-9c19-4037-8f3a-4e2efc5a0336",
   "metadata": {},
   "outputs": [
    {
     "data": {
      "text/plain": [
       "array([   0,    1,    2, ..., 1166, 1167, 1168])"
      ]
     },
     "execution_count": 12,
     "metadata": {},
     "output_type": "execute_result"
    }
   ],
   "source": [
    "le = MyLabelEncoder()\n",
    "groups = vdjdb['antigen.epitope'].value_counts().index\n",
    "\n",
    "le.fit(groups)\n",
    "groups\n",
    "le.transform(groups)"
   ]
  },
  {
   "cell_type": "code",
   "execution_count": 13,
   "id": "e747db39-a408-4205-98f3-86c7982ba2e5",
   "metadata": {},
   "outputs": [],
   "source": [
    "vdjb_short = vdjdb[['cdr3.alpha', 'cdr3.beta', 'antigen.epitope']]"
   ]
  },
  {
   "cell_type": "code",
   "execution_count": 14,
   "id": "50c8938b-c537-4cde-90ee-6370dae6da4c",
   "metadata": {},
   "outputs": [
    {
     "data": {
      "text/plain": [
       "20"
      ]
     },
     "execution_count": 14,
     "metadata": {},
     "output_type": "execute_result"
    }
   ],
   "source": [
    "vdjb_short['antigen.epitope'].value_counts()[vdjb_short['antigen.epitope'].value_counts()>500].shape[0]"
   ]
  },
  {
   "cell_type": "code",
   "execution_count": 15,
   "id": "bbcc3147-e74d-4980-9d83-0fd8fb2d37f9",
   "metadata": {},
   "outputs": [
    {
     "name": "stderr",
     "output_type": "stream",
     "text": [
      "/scratch/ipykernel_3537910/468457691.py:1: SettingWithCopyWarning: \n",
      "A value is trying to be set on a copy of a slice from a DataFrame.\n",
      "Try using .loc[row_indexer,col_indexer] = value instead\n",
      "\n",
      "See the caveats in the documentation: https://pandas.pydata.org/pandas-docs/stable/user_guide/indexing.html#returning-a-view-versus-a-copy\n",
      "  vdjb_short['antigen.epitope']= le.transform(vdjb_short['antigen.epitope'])\n"
     ]
    },
    {
     "data": {
      "text/html": [
       "<div>\n",
       "<style scoped>\n",
       "    .dataframe tbody tr th:only-of-type {\n",
       "        vertical-align: middle;\n",
       "    }\n",
       "\n",
       "    .dataframe tbody tr th {\n",
       "        vertical-align: top;\n",
       "    }\n",
       "\n",
       "    .dataframe thead th {\n",
       "        text-align: right;\n",
       "    }\n",
       "</style>\n",
       "<table border=\"1\" class=\"dataframe\">\n",
       "  <thead>\n",
       "    <tr style=\"text-align: right;\">\n",
       "      <th></th>\n",
       "      <th>cdr3.alpha</th>\n",
       "      <th>cdr3.beta</th>\n",
       "      <th>antigen.epitope</th>\n",
       "    </tr>\n",
       "  </thead>\n",
       "  <tbody>\n",
       "    <tr>\n",
       "      <th>0</th>\n",
       "      <td>CIVRAPGRADMRF</td>\n",
       "      <td>CASSYLPGQGDHYSNQPQHF</td>\n",
       "      <td>38</td>\n",
       "    </tr>\n",
       "    <tr>\n",
       "      <th>1</th>\n",
       "      <td>NaN</td>\n",
       "      <td>CASSFEAGQGFFSNQPQHF</td>\n",
       "      <td>38</td>\n",
       "    </tr>\n",
       "    <tr>\n",
       "      <th>2</th>\n",
       "      <td>CAVPSGAGSYQLTF</td>\n",
       "      <td>CASSFEPGQGFYSNQPQHF</td>\n",
       "      <td>38</td>\n",
       "    </tr>\n",
       "    <tr>\n",
       "      <th>3</th>\n",
       "      <td>CAVKASGSRLT</td>\n",
       "      <td>CASSYEPGQVSHYSNQPQHF</td>\n",
       "      <td>38</td>\n",
       "    </tr>\n",
       "    <tr>\n",
       "      <th>4</th>\n",
       "      <td>CAYRPPGTYKYIF</td>\n",
       "      <td>CASSALASLNEQFF</td>\n",
       "      <td>38</td>\n",
       "    </tr>\n",
       "    <tr>\n",
       "      <th>...</th>\n",
       "      <td>...</td>\n",
       "      <td>...</td>\n",
       "      <td>...</td>\n",
       "    </tr>\n",
       "    <tr>\n",
       "      <th>62172</th>\n",
       "      <td>CMDEGGSNYKLTF</td>\n",
       "      <td>CASSVRSTDTQYF</td>\n",
       "      <td>130</td>\n",
       "    </tr>\n",
       "    <tr>\n",
       "      <th>62173</th>\n",
       "      <td>CSLYNNNDMRF</td>\n",
       "      <td>CASSLRYTDTQYF</td>\n",
       "      <td>130</td>\n",
       "    </tr>\n",
       "    <tr>\n",
       "      <th>62174</th>\n",
       "      <td>CALSTDSWGKLQF</td>\n",
       "      <td>CASSPGQGGDNEQFF</td>\n",
       "      <td>254</td>\n",
       "    </tr>\n",
       "    <tr>\n",
       "      <th>62175</th>\n",
       "      <td>CAPQGATNKLIF</td>\n",
       "      <td>CASSLGAGGQETQYF</td>\n",
       "      <td>254</td>\n",
       "    </tr>\n",
       "    <tr>\n",
       "      <th>62176</th>\n",
       "      <td>CLVGGSGGYNKLIF</td>\n",
       "      <td>CASSSTAQETQYF</td>\n",
       "      <td>254</td>\n",
       "    </tr>\n",
       "  </tbody>\n",
       "</table>\n",
       "<p>62177 rows × 3 columns</p>\n",
       "</div>"
      ],
      "text/plain": [
       "           cdr3.alpha             cdr3.beta  antigen.epitope\n",
       "0       CIVRAPGRADMRF  CASSYLPGQGDHYSNQPQHF               38\n",
       "1                 NaN   CASSFEAGQGFFSNQPQHF               38\n",
       "2      CAVPSGAGSYQLTF   CASSFEPGQGFYSNQPQHF               38\n",
       "3         CAVKASGSRLT  CASSYEPGQVSHYSNQPQHF               38\n",
       "4       CAYRPPGTYKYIF        CASSALASLNEQFF               38\n",
       "...               ...                   ...              ...\n",
       "62172   CMDEGGSNYKLTF         CASSVRSTDTQYF              130\n",
       "62173     CSLYNNNDMRF         CASSLRYTDTQYF              130\n",
       "62174   CALSTDSWGKLQF       CASSPGQGGDNEQFF              254\n",
       "62175    CAPQGATNKLIF       CASSLGAGGQETQYF              254\n",
       "62176  CLVGGSGGYNKLIF         CASSSTAQETQYF              254\n",
       "\n",
       "[62177 rows x 3 columns]"
      ]
     },
     "execution_count": 15,
     "metadata": {},
     "output_type": "execute_result"
    }
   ],
   "source": [
    "vdjb_short['antigen.epitope']= le.transform(vdjb_short['antigen.epitope'])\n",
    "vdjb_short"
   ]
  },
  {
   "cell_type": "code",
   "execution_count": 16,
   "id": "0a645f58-9040-4686-b663-696c4d986f62",
   "metadata": {},
   "outputs": [],
   "source": [
    "vdjb_short = vdjb_short[vdjb_short['antigen.epitope']<=20]"
   ]
  },
  {
   "cell_type": "code",
   "execution_count": 17,
   "id": "ddfe1e33-3fc8-44dd-abc1-7670b9f051c5",
   "metadata": {},
   "outputs": [
    {
     "name": "stderr",
     "output_type": "stream",
     "text": [
      "/scratch/ipykernel_3537910/1762774475.py:1: SettingWithCopyWarning: \n",
      "A value is trying to be set on a copy of a slice from a DataFrame.\n",
      "Try using .loc[row_indexer,col_indexer] = value instead\n",
      "\n",
      "See the caveats in the documentation: https://pandas.pydata.org/pandas-docs/stable/user_guide/indexing.html#returning-a-view-versus-a-copy\n",
      "  vdjb_short['antigen.epitope']= le.inverse_transform(vdjb_short['antigen.epitope'])\n"
     ]
    },
    {
     "data": {
      "text/html": [
       "<div>\n",
       "<style scoped>\n",
       "    .dataframe tbody tr th:only-of-type {\n",
       "        vertical-align: middle;\n",
       "    }\n",
       "\n",
       "    .dataframe tbody tr th {\n",
       "        vertical-align: top;\n",
       "    }\n",
       "\n",
       "    .dataframe thead th {\n",
       "        text-align: right;\n",
       "    }\n",
       "</style>\n",
       "<table border=\"1\" class=\"dataframe\">\n",
       "  <thead>\n",
       "    <tr style=\"text-align: right;\">\n",
       "      <th></th>\n",
       "      <th>cdr3.alpha</th>\n",
       "      <th>cdr3.beta</th>\n",
       "      <th>antigen.epitope</th>\n",
       "    </tr>\n",
       "  </thead>\n",
       "  <tbody>\n",
       "    <tr>\n",
       "      <th>385</th>\n",
       "      <td>NaN</td>\n",
       "      <td>CASSPQTGTGGYGYTF</td>\n",
       "      <td>NLVPMVATV</td>\n",
       "    </tr>\n",
       "    <tr>\n",
       "      <th>386</th>\n",
       "      <td>NaN</td>\n",
       "      <td>CASSPQTGTGGYGYTF</td>\n",
       "      <td>NLVPMVATV</td>\n",
       "    </tr>\n",
       "    <tr>\n",
       "      <th>387</th>\n",
       "      <td>NaN</td>\n",
       "      <td>CASSPLFGTSGGETYYF</td>\n",
       "      <td>NLVPMVATV</td>\n",
       "    </tr>\n",
       "    <tr>\n",
       "      <th>388</th>\n",
       "      <td>NaN</td>\n",
       "      <td>CASSPQTGTGGYGYTF</td>\n",
       "      <td>NLVPMVATV</td>\n",
       "    </tr>\n",
       "    <tr>\n",
       "      <th>389</th>\n",
       "      <td>NaN</td>\n",
       "      <td>CASSPQTGASYGYTF</td>\n",
       "      <td>NLVPMVATV</td>\n",
       "    </tr>\n",
       "    <tr>\n",
       "      <th>...</th>\n",
       "      <td>...</td>\n",
       "      <td>...</td>\n",
       "      <td>...</td>\n",
       "    </tr>\n",
       "    <tr>\n",
       "      <th>61810</th>\n",
       "      <td>CAGLNYGGSQGNLIF</td>\n",
       "      <td>CASSWRQGGSIRESYTF</td>\n",
       "      <td>TFEYVSQPFLMDLE</td>\n",
       "    </tr>\n",
       "    <tr>\n",
       "      <th>61811</th>\n",
       "      <td>NaN</td>\n",
       "      <td>CASSLSSGWPYGYTF</td>\n",
       "      <td>TFEYVSQPFLMDLE</td>\n",
       "    </tr>\n",
       "    <tr>\n",
       "      <th>61812</th>\n",
       "      <td>CAALNYGGSQGNLIF</td>\n",
       "      <td>CASSDRGTGLNGYTF</td>\n",
       "      <td>TFEYVSQPFLMDLE</td>\n",
       "    </tr>\n",
       "    <tr>\n",
       "      <th>61813</th>\n",
       "      <td>CAGLNYGGSQGNLIF</td>\n",
       "      <td>CASGPGGMTEAFF</td>\n",
       "      <td>TFEYVSQPFLMDLE</td>\n",
       "    </tr>\n",
       "    <tr>\n",
       "      <th>61814</th>\n",
       "      <td>CAGQNYGGSQGNLIF</td>\n",
       "      <td>NaN</td>\n",
       "      <td>TFEYVSQPFLMDLE</td>\n",
       "    </tr>\n",
       "  </tbody>\n",
       "</table>\n",
       "<p>46379 rows × 3 columns</p>\n",
       "</div>"
      ],
      "text/plain": [
       "            cdr3.alpha          cdr3.beta antigen.epitope\n",
       "385                NaN   CASSPQTGTGGYGYTF       NLVPMVATV\n",
       "386                NaN   CASSPQTGTGGYGYTF       NLVPMVATV\n",
       "387                NaN  CASSPLFGTSGGETYYF       NLVPMVATV\n",
       "388                NaN   CASSPQTGTGGYGYTF       NLVPMVATV\n",
       "389                NaN    CASSPQTGASYGYTF       NLVPMVATV\n",
       "...                ...                ...             ...\n",
       "61810  CAGLNYGGSQGNLIF  CASSWRQGGSIRESYTF  TFEYVSQPFLMDLE\n",
       "61811              NaN    CASSLSSGWPYGYTF  TFEYVSQPFLMDLE\n",
       "61812  CAALNYGGSQGNLIF    CASSDRGTGLNGYTF  TFEYVSQPFLMDLE\n",
       "61813  CAGLNYGGSQGNLIF      CASGPGGMTEAFF  TFEYVSQPFLMDLE\n",
       "61814  CAGQNYGGSQGNLIF                NaN  TFEYVSQPFLMDLE\n",
       "\n",
       "[46379 rows x 3 columns]"
      ]
     },
     "execution_count": 17,
     "metadata": {},
     "output_type": "execute_result"
    }
   ],
   "source": [
    "vdjb_short['antigen.epitope']= le.inverse_transform(vdjb_short['antigen.epitope'])\n",
    "vdjb_short"
   ]
  },
  {
   "cell_type": "code",
   "execution_count": 18,
   "id": "dd530ebe-5ada-48f0-9ba8-7e1188dd2245",
   "metadata": {},
   "outputs": [],
   "source": [
    "vdjb_short = vdjb_short.fillna('')\n",
    "vdjb_short['cdr3aa'] = vdjb_short['cdr3.alpha'] + vdjb_short['cdr3.beta'].apply(lambda s: s[::-1])\n",
    "vdjb_cdr = vdjb_short[['cdr3aa', 'antigen.epitope']]\n",
    "# vdjb_cdr = vdjb_short[['cdr3.beta', 'antigen.epitope']]\n"
   ]
  },
  {
   "cell_type": "code",
   "execution_count": 19,
   "id": "3bf1cde5-89f2-4dac-94c0-d2d2ba81248b",
   "metadata": {},
   "outputs": [],
   "source": [
    "vdjb_cdr = balance_majority(vdjb_cdr, 'antigen.epitope', max_count=500)"
   ]
  },
  {
   "cell_type": "code",
   "execution_count": 20,
   "id": "0e235f7a-1d52-4862-9def-af3217ec1844",
   "metadata": {},
   "outputs": [],
   "source": [
    "vdjb_cdr.dropna(inplace=True)"
   ]
  },
  {
   "cell_type": "code",
   "execution_count": 21,
   "id": "1cdb0358-0c0f-46e9-8aa7-85e220c214c7",
   "metadata": {},
   "outputs": [
    {
     "data": {
      "text/plain": [
       "CTPYDINQM               500\n",
       "FRDYVDRFYKTLRAEQASQE    500\n",
       "TFEYVSQPFLMDLE          500\n",
       "LLWNGPMAV               500\n",
       "KRWIILGLNK              500\n",
       "NEGVKAAW                500\n",
       "LLLGIGILV               500\n",
       "SPRWYFYYL               500\n",
       "SSYRRPVGI               500\n",
       "IVTDFSVIK               500\n",
       "PKYVKQNTLKLAT           500\n",
       "KLGGALQAK               500\n",
       "TTPESANL                500\n",
       "GLCTLVAML               500\n",
       "RAKFKQLL                500\n",
       "YLQPRTFLL               500\n",
       "AVFDRKSDAK              500\n",
       "ELAGIGILTV              500\n",
       "NLVPMVATV               500\n",
       "GILGFVFTL               500\n",
       "TTDPSFLGRY              448\n",
       "Name: antigen.epitope, dtype: int64"
      ]
     },
     "execution_count": 21,
     "metadata": {},
     "output_type": "execute_result"
    }
   ],
   "source": [
    "vdjb_cdr['antigen.epitope'].value_counts()"
   ]
  },
  {
   "cell_type": "code",
   "execution_count": 22,
   "id": "db694031-cf6f-4de2-8e5e-c9ff2ceaa920",
   "metadata": {},
   "outputs": [],
   "source": [
    "vdjb_cdr['affinity'] = 1"
   ]
  },
  {
   "cell_type": "code",
   "execution_count": 23,
   "id": "974e4915-50da-4d2c-bed1-0faac3329930",
   "metadata": {},
   "outputs": [
    {
     "data": {
      "text/html": [
       "<div>\n",
       "<style scoped>\n",
       "    .dataframe tbody tr th:only-of-type {\n",
       "        vertical-align: middle;\n",
       "    }\n",
       "\n",
       "    .dataframe tbody tr th {\n",
       "        vertical-align: top;\n",
       "    }\n",
       "\n",
       "    .dataframe thead th {\n",
       "        text-align: right;\n",
       "    }\n",
       "</style>\n",
       "<table border=\"1\" class=\"dataframe\">\n",
       "  <thead>\n",
       "    <tr style=\"text-align: right;\">\n",
       "      <th></th>\n",
       "      <th>cdr3aa</th>\n",
       "      <th>antigen.epitope</th>\n",
       "      <th>affinity</th>\n",
       "    </tr>\n",
       "  </thead>\n",
       "  <tbody>\n",
       "    <tr>\n",
       "      <th>50061</th>\n",
       "      <td>CAASAFISNTGKLIFFYQTEIGTGDDSSAC</td>\n",
       "      <td>TTDPSFLGRY</td>\n",
       "      <td>1</td>\n",
       "    </tr>\n",
       "    <tr>\n",
       "      <th>50077</th>\n",
       "      <td>CALVPNARLMFFYQTDGAWRDTSAC</td>\n",
       "      <td>TTDPSFLGRY</td>\n",
       "      <td>1</td>\n",
       "    </tr>\n",
       "    <tr>\n",
       "      <th>50078</th>\n",
       "      <td>CAVLGVYNQGGKLIFFTYGYGGLPFSSAC</td>\n",
       "      <td>TTDPSFLGRY</td>\n",
       "      <td>1</td>\n",
       "    </tr>\n",
       "    <tr>\n",
       "      <th>50079</th>\n",
       "      <td>CAPAVYNFNKFYFFHLPSNDLSSAC</td>\n",
       "      <td>TTDPSFLGRY</td>\n",
       "      <td>1</td>\n",
       "    </tr>\n",
       "    <tr>\n",
       "      <th>50081</th>\n",
       "      <td>CVGGGADGLTFFYQEGSGGAGLSSAC</td>\n",
       "      <td>TTDPSFLGRY</td>\n",
       "      <td>1</td>\n",
       "    </tr>\n",
       "    <tr>\n",
       "      <th>...</th>\n",
       "      <td>...</td>\n",
       "      <td>...</td>\n",
       "      <td>...</td>\n",
       "    </tr>\n",
       "    <tr>\n",
       "      <th>18310</th>\n",
       "      <td>CALSGLGYGNKLVFFFAETGGRGLGTSAC</td>\n",
       "      <td>PKYVKQNTLKLAT</td>\n",
       "      <td>1</td>\n",
       "    </tr>\n",
       "    <tr>\n",
       "      <th>52484</th>\n",
       "      <td>FTYGMPEGQLLSSAC</td>\n",
       "      <td>PKYVKQNTLKLAT</td>\n",
       "      <td>1</td>\n",
       "    </tr>\n",
       "    <tr>\n",
       "      <th>18258</th>\n",
       "      <td>CAENMRGSNYKLTFFFAETNSQRGDLSSAC</td>\n",
       "      <td>PKYVKQNTLKLAT</td>\n",
       "      <td>1</td>\n",
       "    </tr>\n",
       "    <tr>\n",
       "      <th>52610</th>\n",
       "      <td>FYQTDVAGGGNSAC</td>\n",
       "      <td>PKYVKQNTLKLAT</td>\n",
       "      <td>1</td>\n",
       "    </tr>\n",
       "    <tr>\n",
       "      <th>18246</th>\n",
       "      <td>FYITNGNDTYSSAC</td>\n",
       "      <td>PKYVKQNTLKLAT</td>\n",
       "      <td>1</td>\n",
       "    </tr>\n",
       "  </tbody>\n",
       "</table>\n",
       "<p>10448 rows × 3 columns</p>\n",
       "</div>"
      ],
      "text/plain": [
       "                               cdr3aa antigen.epitope  affinity\n",
       "50061  CAASAFISNTGKLIFFYQTEIGTGDDSSAC      TTDPSFLGRY         1\n",
       "50077       CALVPNARLMFFYQTDGAWRDTSAC      TTDPSFLGRY         1\n",
       "50078   CAVLGVYNQGGKLIFFTYGYGGLPFSSAC      TTDPSFLGRY         1\n",
       "50079       CAPAVYNFNKFYFFHLPSNDLSSAC      TTDPSFLGRY         1\n",
       "50081      CVGGGADGLTFFYQEGSGGAGLSSAC      TTDPSFLGRY         1\n",
       "...                               ...             ...       ...\n",
       "18310   CALSGLGYGNKLVFFFAETGGRGLGTSAC   PKYVKQNTLKLAT         1\n",
       "52484                 FTYGMPEGQLLSSAC   PKYVKQNTLKLAT         1\n",
       "18258  CAENMRGSNYKLTFFFAETNSQRGDLSSAC   PKYVKQNTLKLAT         1\n",
       "52610                  FYQTDVAGGGNSAC   PKYVKQNTLKLAT         1\n",
       "18246                  FYITNGNDTYSSAC   PKYVKQNTLKLAT         1\n",
       "\n",
       "[10448 rows x 3 columns]"
      ]
     },
     "execution_count": 23,
     "metadata": {},
     "output_type": "execute_result"
    }
   ],
   "source": [
    "vdjb_cdr"
   ]
  },
  {
   "cell_type": "code",
   "execution_count": null,
   "id": "edad5dd1-5ed3-4d26-bade-ab0a59977a65",
   "metadata": {},
   "outputs": [],
   "source": []
  },
  {
   "cell_type": "code",
   "execution_count": null,
   "id": "9e5e9cc9-ae79-400c-ae8a-f63a1663bf78",
   "metadata": {},
   "outputs": [],
   "source": []
  },
  {
   "cell_type": "code",
   "execution_count": 24,
   "id": "ef31433a-6649-4831-9db4-5a9dba5418c6",
   "metadata": {},
   "outputs": [
    {
     "data": {
      "text/html": [
       "<div>\n",
       "<style scoped>\n",
       "    .dataframe tbody tr th:only-of-type {\n",
       "        vertical-align: middle;\n",
       "    }\n",
       "\n",
       "    .dataframe tbody tr th {\n",
       "        vertical-align: top;\n",
       "    }\n",
       "\n",
       "    .dataframe thead th {\n",
       "        text-align: right;\n",
       "    }\n",
       "</style>\n",
       "<table border=\"1\" class=\"dataframe\">\n",
       "  <thead>\n",
       "    <tr style=\"text-align: right;\">\n",
       "      <th></th>\n",
       "      <th>antigen.epitope</th>\n",
       "      <th>cdr3aa</th>\n",
       "      <th>affinity</th>\n",
       "    </tr>\n",
       "  </thead>\n",
       "  <tbody>\n",
       "    <tr>\n",
       "      <th>0</th>\n",
       "      <td>ELAGIGILTV</td>\n",
       "      <td>FYQPQNSVRDLSSAC</td>\n",
       "      <td>0</td>\n",
       "    </tr>\n",
       "    <tr>\n",
       "      <th>1</th>\n",
       "      <td>AVFDRKSDAK</td>\n",
       "      <td>CAGQNYGGSQGNLIF</td>\n",
       "      <td>0</td>\n",
       "    </tr>\n",
       "    <tr>\n",
       "      <th>2</th>\n",
       "      <td>NEGVKAAW</td>\n",
       "      <td>FFQENYSRDRSSAC</td>\n",
       "      <td>0</td>\n",
       "    </tr>\n",
       "    <tr>\n",
       "      <th>3</th>\n",
       "      <td>TTPESANL</td>\n",
       "      <td>CVVNVMDDMRFFFLEGTNRDPSSAC</td>\n",
       "      <td>0</td>\n",
       "    </tr>\n",
       "    <tr>\n",
       "      <th>4</th>\n",
       "      <td>NEGVKAAW</td>\n",
       "      <td>CLVGDIQGGGGKLIFFFLEGTDGEVSC</td>\n",
       "      <td>0</td>\n",
       "    </tr>\n",
       "    <tr>\n",
       "      <th>...</th>\n",
       "      <td>...</td>\n",
       "      <td>...</td>\n",
       "      <td>...</td>\n",
       "    </tr>\n",
       "    <tr>\n",
       "      <th>8353</th>\n",
       "      <td>ELAGIGILTV</td>\n",
       "      <td>FYQPQNSVRNLSSAC</td>\n",
       "      <td>0</td>\n",
       "    </tr>\n",
       "    <tr>\n",
       "      <th>8354</th>\n",
       "      <td>CTPYDINQM</td>\n",
       "      <td>CAYRGYSGGGADGLTFFTYGYYAQKSSAC</td>\n",
       "      <td>0</td>\n",
       "    </tr>\n",
       "    <tr>\n",
       "      <th>8355</th>\n",
       "      <td>KRWIILGLNK</td>\n",
       "      <td>FFLKENTLGRGELSSAC</td>\n",
       "      <td>0</td>\n",
       "    </tr>\n",
       "    <tr>\n",
       "      <th>8356</th>\n",
       "      <td>NEGVKAAW</td>\n",
       "      <td>FYQPQNSNGNLSSAC</td>\n",
       "      <td>0</td>\n",
       "    </tr>\n",
       "    <tr>\n",
       "      <th>8357</th>\n",
       "      <td>NEGVKAAW</td>\n",
       "      <td>CAVTPTNAGKSTF</td>\n",
       "      <td>0</td>\n",
       "    </tr>\n",
       "  </tbody>\n",
       "</table>\n",
       "<p>8358 rows × 3 columns</p>\n",
       "</div>"
      ],
      "text/plain": [
       "     antigen.epitope                         cdr3aa  affinity\n",
       "0         ELAGIGILTV                FYQPQNSVRDLSSAC         0\n",
       "1         AVFDRKSDAK                CAGQNYGGSQGNLIF         0\n",
       "2           NEGVKAAW                 FFQENYSRDRSSAC         0\n",
       "3           TTPESANL      CVVNVMDDMRFFFLEGTNRDPSSAC         0\n",
       "4           NEGVKAAW    CLVGDIQGGGGKLIFFFLEGTDGEVSC         0\n",
       "...              ...                            ...       ...\n",
       "8353      ELAGIGILTV                FYQPQNSVRNLSSAC         0\n",
       "8354       CTPYDINQM  CAYRGYSGGGADGLTFFTYGYYAQKSSAC         0\n",
       "8355      KRWIILGLNK              FFLKENTLGRGELSSAC         0\n",
       "8356        NEGVKAAW                FYQPQNSNGNLSSAC         0\n",
       "8357        NEGVKAAW                  CAVTPTNAGKSTF         0\n",
       "\n",
       "[8358 rows x 3 columns]"
      ]
     },
     "execution_count": 24,
     "metadata": {},
     "output_type": "execute_result"
    }
   ],
   "source": [
    "df = vdjb_cdr.copy()\n",
    "\n",
    "ratio = 0.8\n",
    "tcr_distribution = df['cdr3aa'].value_counts()\n",
    "epitope_distribution = df['antigen.epitope'].value_counts()\n",
    "negative_data = random_recombination(df, 'cdr3aa', epitope_distribution, tcr_distribution, ratio)\n",
    "negative_data\n"
   ]
  },
  {
   "cell_type": "code",
   "execution_count": 25,
   "id": "b97229b0-ec28-498a-978e-1462891341ef",
   "metadata": {},
   "outputs": [
    {
     "data": {
      "text/html": [
       "<div>\n",
       "<style scoped>\n",
       "    .dataframe tbody tr th:only-of-type {\n",
       "        vertical-align: middle;\n",
       "    }\n",
       "\n",
       "    .dataframe tbody tr th {\n",
       "        vertical-align: top;\n",
       "    }\n",
       "\n",
       "    .dataframe thead th {\n",
       "        text-align: right;\n",
       "    }\n",
       "</style>\n",
       "<table border=\"1\" class=\"dataframe\">\n",
       "  <thead>\n",
       "    <tr style=\"text-align: right;\">\n",
       "      <th></th>\n",
       "      <th>cdr3aa</th>\n",
       "      <th>antigen.epitope</th>\n",
       "      <th>affinity</th>\n",
       "    </tr>\n",
       "  </thead>\n",
       "  <tbody>\n",
       "    <tr>\n",
       "      <th>0</th>\n",
       "      <td>CAASAFISNTGKLIFFYQTEIGTGDDSSAC</td>\n",
       "      <td>TTDPSFLGRY</td>\n",
       "      <td>1</td>\n",
       "    </tr>\n",
       "    <tr>\n",
       "      <th>1</th>\n",
       "      <td>CALVPNARLMFFYQTDGAWRDTSAC</td>\n",
       "      <td>TTDPSFLGRY</td>\n",
       "      <td>1</td>\n",
       "    </tr>\n",
       "    <tr>\n",
       "      <th>2</th>\n",
       "      <td>CAVLGVYNQGGKLIFFTYGYGGLPFSSAC</td>\n",
       "      <td>TTDPSFLGRY</td>\n",
       "      <td>1</td>\n",
       "    </tr>\n",
       "    <tr>\n",
       "      <th>3</th>\n",
       "      <td>CAPAVYNFNKFYFFHLPSNDLSSAC</td>\n",
       "      <td>TTDPSFLGRY</td>\n",
       "      <td>1</td>\n",
       "    </tr>\n",
       "    <tr>\n",
       "      <th>4</th>\n",
       "      <td>CVGGGADGLTFFYQEGSGGAGLSSAC</td>\n",
       "      <td>TTDPSFLGRY</td>\n",
       "      <td>1</td>\n",
       "    </tr>\n",
       "    <tr>\n",
       "      <th>...</th>\n",
       "      <td>...</td>\n",
       "      <td>...</td>\n",
       "      <td>...</td>\n",
       "    </tr>\n",
       "    <tr>\n",
       "      <th>18801</th>\n",
       "      <td>FYQPQNSVRNLSSAC</td>\n",
       "      <td>ELAGIGILTV</td>\n",
       "      <td>0</td>\n",
       "    </tr>\n",
       "    <tr>\n",
       "      <th>18802</th>\n",
       "      <td>CAYRGYSGGGADGLTFFTYGYYAQKSSAC</td>\n",
       "      <td>CTPYDINQM</td>\n",
       "      <td>0</td>\n",
       "    </tr>\n",
       "    <tr>\n",
       "      <th>18803</th>\n",
       "      <td>FFLKENTLGRGELSSAC</td>\n",
       "      <td>KRWIILGLNK</td>\n",
       "      <td>0</td>\n",
       "    </tr>\n",
       "    <tr>\n",
       "      <th>18804</th>\n",
       "      <td>FYQPQNSNGNLSSAC</td>\n",
       "      <td>NEGVKAAW</td>\n",
       "      <td>0</td>\n",
       "    </tr>\n",
       "    <tr>\n",
       "      <th>18805</th>\n",
       "      <td>CAVTPTNAGKSTF</td>\n",
       "      <td>NEGVKAAW</td>\n",
       "      <td>0</td>\n",
       "    </tr>\n",
       "  </tbody>\n",
       "</table>\n",
       "<p>18806 rows × 3 columns</p>\n",
       "</div>"
      ],
      "text/plain": [
       "                               cdr3aa antigen.epitope  affinity\n",
       "0      CAASAFISNTGKLIFFYQTEIGTGDDSSAC      TTDPSFLGRY         1\n",
       "1           CALVPNARLMFFYQTDGAWRDTSAC      TTDPSFLGRY         1\n",
       "2       CAVLGVYNQGGKLIFFTYGYGGLPFSSAC      TTDPSFLGRY         1\n",
       "3           CAPAVYNFNKFYFFHLPSNDLSSAC      TTDPSFLGRY         1\n",
       "4          CVGGGADGLTFFYQEGSGGAGLSSAC      TTDPSFLGRY         1\n",
       "...                               ...             ...       ...\n",
       "18801                 FYQPQNSVRNLSSAC      ELAGIGILTV         0\n",
       "18802   CAYRGYSGGGADGLTFFTYGYYAQKSSAC       CTPYDINQM         0\n",
       "18803               FFLKENTLGRGELSSAC      KRWIILGLNK         0\n",
       "18804                 FYQPQNSNGNLSSAC        NEGVKAAW         0\n",
       "18805                   CAVTPTNAGKSTF        NEGVKAAW         0\n",
       "\n",
       "[18806 rows x 3 columns]"
      ]
     },
     "execution_count": 25,
     "metadata": {},
     "output_type": "execute_result"
    }
   ],
   "source": [
    "full_data = pd.concat([df, negative_data])\n",
    "full_data = full_data.reset_index(drop=True)\n",
    "full_data"
   ]
  },
  {
   "cell_type": "code",
   "execution_count": 26,
   "id": "5e19e86c-8ea7-4884-ae4b-8e6d81a57554",
   "metadata": {},
   "outputs": [
    {
     "name": "stderr",
     "output_type": "stream",
     "text": [
      "Some weights of BertForSequenceClassification were not initialized from the model checkpoint at wukevin/tcr-bert and are newly initialized because the shapes did not match:\n",
      "- classifier.weight: found shape torch.Size([45, 768]) in the checkpoint and torch.Size([21, 768]) in the model instantiated\n",
      "- classifier.bias: found shape torch.Size([45]) in the checkpoint and torch.Size([21]) in the model instantiated\n",
      "You should probably TRAIN this model on a down-stream task to be able to use it for predictions and inference.\n"
     ]
    }
   ],
   "source": [
    "N_LABELS = full_data['antigen.epitope'].nunique()\n",
    "\n",
    "tcr_mod = load_model_('../models_ft/tcr_epit.pth', mod_type='TCR-bert', num_labels=N_LABELS)"
   ]
  },
  {
   "cell_type": "code",
   "execution_count": 27,
   "id": "3393419f-174f-4211-aa28-9042988c24b4",
   "metadata": {},
   "outputs": [
    {
     "data": {
      "text/plain": [
       "CustomModel(\n",
       "  (model): BertForSequenceClassification(\n",
       "    (bert): BertModel(\n",
       "      (embeddings): BertEmbeddings(\n",
       "        (word_embeddings): Embedding(26, 768, padding_idx=21)\n",
       "        (position_embeddings): Embedding(64, 768)\n",
       "        (token_type_embeddings): Embedding(2, 768)\n",
       "        (LayerNorm): LayerNorm((768,), eps=1e-12, elementwise_affine=True)\n",
       "        (dropout): Dropout(p=0.1, inplace=False)\n",
       "      )\n",
       "      (encoder): BertEncoder(\n",
       "        (layer): ModuleList(\n",
       "          (0-11): 12 x BertLayer(\n",
       "            (attention): BertAttention(\n",
       "              (self): BertSelfAttention(\n",
       "                (query): Linear(in_features=768, out_features=768, bias=True)\n",
       "                (key): Linear(in_features=768, out_features=768, bias=True)\n",
       "                (value): Linear(in_features=768, out_features=768, bias=True)\n",
       "                (dropout): Dropout(p=0.1, inplace=False)\n",
       "              )\n",
       "              (output): BertSelfOutput(\n",
       "                (dense): Linear(in_features=768, out_features=768, bias=True)\n",
       "                (LayerNorm): LayerNorm((768,), eps=1e-12, elementwise_affine=True)\n",
       "                (dropout): Dropout(p=0.1, inplace=False)\n",
       "              )\n",
       "            )\n",
       "            (intermediate): BertIntermediate(\n",
       "              (dense): Linear(in_features=768, out_features=1536, bias=True)\n",
       "              (intermediate_act_fn): GELUActivation()\n",
       "            )\n",
       "            (output): BertOutput(\n",
       "              (dense): Linear(in_features=1536, out_features=768, bias=True)\n",
       "              (LayerNorm): LayerNorm((768,), eps=1e-12, elementwise_affine=True)\n",
       "              (dropout): Dropout(p=0.1, inplace=False)\n",
       "            )\n",
       "          )\n",
       "        )\n",
       "      )\n",
       "      (pooler): BertPooler(\n",
       "        (dense): Linear(in_features=768, out_features=768, bias=True)\n",
       "        (activation): Tanh()\n",
       "      )\n",
       "    )\n",
       "    (dropout): Dropout(p=0.1, inplace=False)\n",
       "    (classifier): Linear(in_features=768, out_features=21, bias=True)\n",
       "  )\n",
       ")"
      ]
     },
     "execution_count": 27,
     "metadata": {},
     "output_type": "execute_result"
    }
   ],
   "source": [
    "tcr_mod.maximun_len = 45\n",
    "tcr_mod.to(device)"
   ]
  },
  {
   "cell_type": "code",
   "execution_count": null,
   "id": "e692891a-628d-47d0-839e-f57cd64ead6d",
   "metadata": {},
   "outputs": [],
   "source": []
  },
  {
   "cell_type": "code",
   "execution_count": 28,
   "id": "0200f861-a1ba-4a1c-bb85-ae6f87c8d4e8",
   "metadata": {},
   "outputs": [
    {
     "name": "stderr",
     "output_type": "stream",
     "text": [
      "  0%|          | 0/18806 [00:00<?, ?it/s]Truncation was not explicitly activated but `max_length` is provided a specific value, please use `truncation=True` to explicitly truncate examples to max length. Defaulting to 'longest_first' truncation strategy. If you encode pairs of sequences (GLUE-style) with the tokenizer you can select this strategy more precisely by providing a specific strategy to `truncation`.\n",
      "/home/akabalina/.conda/envs/ft/lib/python3.9/site-packages/transformers/tokenization_utils_base.py:2339: FutureWarning: The `pad_to_max_length` argument is deprecated and will be removed in a future version, use `padding=True` or `padding='longest'` to pad to the longest sequence in the batch, or use `padding='max_length'` to pad to a max length. In this case, you can give a specific length with `max_length` (e.g. `max_length=45`) or leave max_length to None to pad to the maximal input size of the model (e.g. 512 for Bert).\n",
      "  warnings.warn(\n",
      "100%|██████████| 18806/18806 [03:37<00:00, 86.46it/s]\n"
     ]
    }
   ],
   "source": [
    "lbls = []\n",
    "final_tens = []#torch.empty(0, 0, 768)\n",
    "tcr_mod = tcr_mod.to(device)\n",
    "model = model.to(device)\n",
    "\n",
    "for seq in tqdm(full_data.index):\n",
    "    # print(seq)\n",
    "    seq, epi, lab = full_data.loc[seq]\n",
    "    en_dict = tcr_mod.tokenizer.encode_plus(seq, add_special_tokens = True, \n",
    "                                      max_length = 45, pad_to_max_length = True, return_attention_mask = True, return_tensors = 'pt')\n",
    "    \n",
    "    input_ids_test, att_mask_test = en_dict['input_ids'], en_dict['attention_mask']\n",
    "   \n",
    "    input_ids_test = input_ids_test.to(device)\n",
    "    att_mask_test= att_mask_test.to(device)\n",
    "   \n",
    "    with torch.no_grad():\n",
    "        outputs = tcr_mod.model(input_ids_test, att_mask_test, output_hidden_states=True)\n",
    "        \n",
    "    tcr_emb = outputs.hidden_states\n",
    "    tcr_emb = torch.stack(list(tcr_emb), dim=0)\n",
    "    \n",
    "    \n",
    "    tcr_emb = torch.mean(tcr_emb, dim = 2)\n",
    "    tcr_emb = torch.mean(tcr_emb, dim = 0)\n",
    "    \n",
    "    epi_emb = model.get_emb([epi], model_epi, model_epi.model)\n",
    "    # print(epi_emb.shape)\n",
    "    \n",
    "    combined_tensor = conc_tensors(tcr_emb, epi_emb)\n",
    "        \n",
    "    final_tens.append(combined_tensor)\n",
    "    lbls.append(lab)"
   ]
  },
  {
   "cell_type": "code",
   "execution_count": 29,
   "id": "45b928e3-5909-471b-835c-949d2451b8d0",
   "metadata": {},
   "outputs": [],
   "source": [
    "lbls_tens = torch.tensor(lbls, dtype=torch.float32).to(device)"
   ]
  },
  {
   "cell_type": "code",
   "execution_count": 30,
   "id": "fc9350d8-bf9a-459f-8a40-9f8c425b0780",
   "metadata": {},
   "outputs": [
    {
     "data": {
      "text/plain": [
       "torch.Size([2, 768])"
      ]
     },
     "execution_count": 30,
     "metadata": {},
     "output_type": "execute_result"
    }
   ],
   "source": [
    "final_tens[0].shape"
   ]
  },
  {
   "cell_type": "code",
   "execution_count": 31,
   "id": "7a91f088-4f3a-48df-a4b3-3b1f0b54ab77",
   "metadata": {},
   "outputs": [],
   "source": [
    "# final_tens_2 = [tens[0]*tens[1] for tens in final_tens]\n",
    "# final_tens_2[0]"
   ]
  },
  {
   "cell_type": "code",
   "execution_count": 32,
   "id": "151c227d-8d9a-430d-a04a-1bd754d58feb",
   "metadata": {},
   "outputs": [],
   "source": [
    "# final_tens_np = [tens.to('cpu').detach().numpy() for tens in final_tens]"
   ]
  },
  {
   "cell_type": "code",
   "execution_count": 33,
   "id": "a554aa14-3904-4fb6-baf7-78af8cbd2ddd",
   "metadata": {},
   "outputs": [],
   "source": [
    "\n",
    "# df = pd.DataFrame({'embedding': final_tens_np, 'label': lbls})"
   ]
  },
  {
   "cell_type": "code",
   "execution_count": 34,
   "id": "77af15ac-5d11-4999-a727-a13c5c18adb6",
   "metadata": {},
   "outputs": [
    {
     "data": {
      "text/plain": [
       "torch.Size([18806, 2, 768])"
      ]
     },
     "execution_count": 34,
     "metadata": {},
     "output_type": "execute_result"
    }
   ],
   "source": [
    "# concatenated_tensor = torch.stack(final_tens, dim=0)\n",
    "\n",
    "# concatenated_tensor = torch.stack(final_tens, dim=0)#.view(20896, -1)\n",
    "\n",
    "concatenated_tensor = torch.stack(final_tens, dim=0)#.view(20896, -1)\n",
    "concatenated_tensor.shape"
   ]
  },
  {
   "cell_type": "code",
   "execution_count": 35,
   "id": "acad3584-375c-4466-ab7c-bbf0611f8ff7",
   "metadata": {},
   "outputs": [],
   "source": [
    "from torch.utils.data import TensorDataset, random_split\n",
    "from torch.utils.data import DataLoader, RandomSampler, SequentialSampler\n",
    "\n",
    "lbls_tens = torch.tensor(lbls, dtype=torch.float32).to(device)\n",
    "dataset = TensorDataset(concatenated_tensor, lbls_tens)"
   ]
  },
  {
   "cell_type": "code",
   "execution_count": 36,
   "id": "f7d7e549-3f8f-4add-bb3a-ab79f519baa8",
   "metadata": {},
   "outputs": [],
   "source": [
    "# train_size = int(0.6 * len(lbls))\n",
    "# val_size = int(0.2 * len(lbls))\n",
    "# test_size = len(lbls) - train_size - val_size"
   ]
  },
  {
   "cell_type": "code",
   "execution_count": 37,
   "id": "f0fddaa5-d302-4c1d-b1f7-b2e485b08b7b",
   "metadata": {},
   "outputs": [],
   "source": [
    "# train_df, val_df, test_df = random_split(dataset, [train_size, val_size, test_size])\n"
   ]
  },
  {
   "cell_type": "code",
   "execution_count": 38,
   "id": "a9390535-bc7e-40a4-9948-4b1cfac627ac",
   "metadata": {},
   "outputs": [],
   "source": [
    "# batch_size = 64\n",
    "\n",
    "# train_loader = DataLoader(train_df,\n",
    "#                 batch_size = batch_size, shuffle=True)\n",
    "\n",
    "# # val_loader = DataLoader(val_df,\n",
    "# #                 sampler = SequentialSampler(val_df),\n",
    "# #                 batch_size = batch_size)\n",
    "    \n",
    "# test_loader = DataLoader(test_df,\n",
    "#                 # sampler = RandomSampler(test_df),\n",
    "#                 batch_size = batch_size, shuffle=True)\n"
   ]
  },
  {
   "cell_type": "code",
   "execution_count": 39,
   "id": "71de16af-dfc9-4c7a-9e15-365645fe7edb",
   "metadata": {},
   "outputs": [
    {
     "data": {
      "text/plain": [
       "tensor(1., device='cuda:0')"
      ]
     },
     "execution_count": 39,
     "metadata": {},
     "output_type": "execute_result"
    }
   ],
   "source": [
    "dataset[0][1]"
   ]
  },
  {
   "cell_type": "code",
   "execution_count": 40,
   "id": "08ffee0b-9d4d-4345-8b15-af424bcebef9",
   "metadata": {},
   "outputs": [],
   "source": [
    "# torch.tensor(1).shape"
   ]
  },
  {
   "cell_type": "code",
   "execution_count": 41,
   "id": "cc18f36e-792b-4209-8f34-6294e810625c",
   "metadata": {},
   "outputs": [],
   "source": [
    "device = 'cpu'"
   ]
  },
  {
   "cell_type": "code",
   "execution_count": 42,
   "id": "df282310-f449-44de-94a5-389824128815",
   "metadata": {},
   "outputs": [],
   "source": [
    "# import torch.nn as nn\n",
    "# import torch.optim as optim\n",
    "\n",
    "\n",
    "# class SimpleClassifier(nn.Module):\n",
    "#     def __init__(self):\n",
    "#         super().__init__()\n",
    "#         self.fc1 = nn.Linear(768 * 14, 256)\n",
    "#         self.relu = nn.ReLU()\n",
    "#         self.fc2 = nn.Linear(256, 1)\n",
    "#         self.sigmoid = nn.Sigmoid()\n",
    "\n",
    "#     def forward(self, x):\n",
    "#         x = self.fc1(x)\n",
    "#         x = self.relu(x)\n",
    "#         x = self.fc2(x)\n",
    "#         x = self.sigmoid(x)\n",
    "#         return x\n",
    "\n",
    "\n",
    "# input_size = 768 * 14  \n",
    "# hidden_size = 128  \n",
    "# output_size = 1  \n",
    "# clf_model = SimpleClassifier()\n",
    "\n",
    "# num_epochs = 4\n",
    "# criterion = nn.CrossEntropyLoss()\n",
    "\n",
    "# optimizer = optim.Adam(clf_model.parameters(), lr = 0.001)\n",
    "# total_steps = len(train_loader) * num_epochs\n"
   ]
  },
  {
   "cell_type": "code",
   "execution_count": 43,
   "id": "b79a977b-92eb-41f4-81b8-02a5d698b659",
   "metadata": {},
   "outputs": [],
   "source": [
    "# clf_model.to(device)\n",
    "\n",
    "# for epoch in range(num_epochs):\n",
    "#     clf_model.train()\n",
    "#     running_loss = 0.0\n",
    "#     for step, batch in enumerate(train_loader):\n",
    "#         optimizer.zero_grad()  \n",
    "#         batch = tuple(t.to(device) for t in batch)\n",
    "#         inputs, labels = batch\n",
    "\n",
    "#         inputs = inputs.view(-1, input_size)\n",
    "#         # print(inputs.shape)\n",
    "#         outputs = clf_model(inputs)\n",
    "#         # print(outputs)\n",
    "#         outputs = outputs.squeeze()#.float()\n",
    "#         print(outputs)\n",
    "#         # optimizer.zero_grad()\n",
    "#         loss = criterion(outputs, labels)\n",
    "        \n",
    "#         running_loss += loss.item()\n",
    "#         print(loss)\n",
    "#         # optimizer.zero_grad()\n",
    "#         loss.backward()  # Calculate gradients\n",
    "#         torch.nn.utils.clip_grad_norm_(clf_model.parameters(), 1.0)\n",
    "#         optimizer.step()  # Update weights\n",
    "    \n",
    "#     #Validation\n",
    "#     print(\"\")\n",
    "#     print(\"Running Validation...\")\n",
    "    \n",
    "#     clf_model.eval()\n",
    "#     correct = 0\n",
    "#     total = 0\n",
    "    \n",
    "#     for batch in val_loader:\n",
    "#         batch = tuple(t.to(device) for t in batch)\n",
    "#         inputs, labels = batch\n",
    "#         with torch.no_grad():\n",
    "#             inputs = inputs.view(-1, input_size)\n",
    "#             outputs = clf_model(inputs)\n",
    "#             predicted = torch.round(outputs)\n",
    "#             total += labels.size(0)\n",
    "#             correct += (predicted == labels).sum().item()\n",
    "            \n",
    "#     print(f\"Accuracy on validation set: {100 * correct / total}%\")\n"
   ]
  },
  {
   "cell_type": "code",
   "execution_count": null,
   "id": "cd3bf3ba-8544-477f-9765-5c0c16d7995a",
   "metadata": {},
   "outputs": [],
   "source": []
  },
  {
   "cell_type": "code",
   "execution_count": null,
   "id": "3a857381-4d3b-4128-a314-b23a156ad9da",
   "metadata": {},
   "outputs": [],
   "source": []
  },
  {
   "cell_type": "code",
   "execution_count": null,
   "id": "61307ae2-ff5f-471e-a1f3-56ec56e3d64d",
   "metadata": {},
   "outputs": [],
   "source": []
  },
  {
   "cell_type": "code",
   "execution_count": null,
   "id": "964b5df7-76f5-4096-93f0-69de93616234",
   "metadata": {},
   "outputs": [],
   "source": []
  },
  {
   "cell_type": "code",
   "execution_count": null,
   "id": "60a383eb-c483-4ad2-a2bc-3ee24c77b17d",
   "metadata": {},
   "outputs": [],
   "source": []
  },
  {
   "cell_type": "code",
   "execution_count": 44,
   "id": "ea9448d7-4cca-407b-8f3b-b8531c56bb88",
   "metadata": {},
   "outputs": [
    {
     "data": {
      "text/plain": [
       "torch.Size([18806, 2, 768])"
      ]
     },
     "execution_count": 44,
     "metadata": {},
     "output_type": "execute_result"
    }
   ],
   "source": [
    "concatenated_tensor.shape\n",
    "X = concatenated_tensor\n",
    "y = lbls_tens\n",
    "X.shape"
   ]
  },
  {
   "cell_type": "code",
   "execution_count": 45,
   "id": "c866dc42-6a33-49c3-83ab-723f5737ea16",
   "metadata": {},
   "outputs": [],
   "source": [
    "import torch\n",
    "import torch.nn as nn\n",
    "import torch.optim as optim\n",
    "from torch.utils.data import DataLoader, TensorDataset\n",
    "from sklearn.model_selection import train_test_split\n",
    "\n",
    "# Define your neural network architecture\n",
    "class SimpleClassifier(nn.Module):\n",
    "    def __init__(self, input_size, hidden_size, output_size):\n",
    "        super(SimpleClassifier, self).__init__()\n",
    "        self.fc1 = nn.Linear(input_size, hidden_size)\n",
    "        self.relu = nn.ReLU()\n",
    "        self.fc2 = nn.Linear(hidden_size, output_size)\n",
    "        self.sigmoid = nn.Sigmoid()\n",
    "\n",
    "    def forward(self, x):\n",
    "        x = self.fc1(x)\n",
    "        x = self.relu(x)\n",
    "        x = self.fc2(x)\n",
    "        x = self.sigmoid(x)\n",
    "        return x\n",
    "\n",
    "X_train, X_test, y_train, y_test = train_test_split(X, y, test_size=0.2, random_state=42)\n"
   ]
  },
  {
   "cell_type": "code",
   "execution_count": 46,
   "id": "7cd35702-432c-4550-b5ad-b653921411eb",
   "metadata": {},
   "outputs": [
    {
     "name": "stderr",
     "output_type": "stream",
     "text": [
      "/scratch/ipykernel_3537910/137191754.py:1: UserWarning: To copy construct from a tensor, it is recommended to use sourceTensor.clone().detach() or sourceTensor.clone().detach().requires_grad_(True), rather than torch.tensor(sourceTensor).\n",
      "  X_train_tensor = torch.tensor(X_train, dtype=torch.float32)\n",
      "/scratch/ipykernel_3537910/137191754.py:2: UserWarning: To copy construct from a tensor, it is recommended to use sourceTensor.clone().detach() or sourceTensor.clone().detach().requires_grad_(True), rather than torch.tensor(sourceTensor).\n",
      "  X_test_tensor = torch.tensor(X_test, dtype=torch.float32)\n",
      "/scratch/ipykernel_3537910/137191754.py:3: UserWarning: To copy construct from a tensor, it is recommended to use sourceTensor.clone().detach() or sourceTensor.clone().detach().requires_grad_(True), rather than torch.tensor(sourceTensor).\n",
      "  y_train_tensor = torch.tensor(y_train, dtype=torch.float32)\n",
      "/scratch/ipykernel_3537910/137191754.py:4: UserWarning: To copy construct from a tensor, it is recommended to use sourceTensor.clone().detach() or sourceTensor.clone().detach().requires_grad_(True), rather than torch.tensor(sourceTensor).\n",
      "  y_test_tensor = torch.tensor(y_test, dtype=torch.float32)\n"
     ]
    }
   ],
   "source": [
    "\n",
    "X_train_tensor = torch.tensor(X_train, dtype=torch.float32)\n",
    "X_test_tensor = torch.tensor(X_test, dtype=torch.float32)\n",
    "y_train_tensor = torch.tensor(y_train, dtype=torch.float32)\n",
    "y_test_tensor = torch.tensor(y_test, dtype=torch.float32)\n",
    "\n",
    "\n",
    "train_dataset = TensorDataset(X_train_tensor, y_train_tensor)\n",
    "train_loader = DataLoader(train_dataset, batch_size=32, shuffle=True)\n",
    "\n",
    "test_dataset = TensorDataset(X_test_tensor, y_test_tensor)\n",
    "test_loader = DataLoader(test_dataset, batch_size=32, shuffle=False)\n"
   ]
  },
  {
   "cell_type": "code",
   "execution_count": 54,
   "id": "a4fc61c5-ef6e-4049-a204-4b06cc8e8f34",
   "metadata": {},
   "outputs": [],
   "source": [
    "class FCNet(nn.Module):\n",
    "    def __init__(self):\n",
    "        super(FCNet, self).__init__()\n",
    "        self.fc1 = nn.Linear(768 * 2, 256)\n",
    "        self.fc2 = nn.Linear(256, 128)\n",
    "        self.fc3 = nn.Linear(128, 2)\n",
    "        self.relu = nn.ReLU()\n",
    "        self.softmax = nn.Sigmoid()  # Softmax for multi-class classification\n",
    "\n",
    "    def forward(self, x):\n",
    "        x = x.view(x.size(0), -1)\n",
    "        x = self.relu(self.fc1(x))\n",
    "        x = self.relu(self.fc2(x))\n",
    "        x = self.fc3(x)\n",
    "        x = self.softmax(x)\n",
    "        return x"
   ]
  },
  {
   "cell_type": "code",
   "execution_count": 58,
   "id": "6519f6c0-7a52-4a8e-87d7-73ace5823ed1",
   "metadata": {},
   "outputs": [],
   "source": [
    "def get_accuracy(model, dataloader, device='cuda'):\n",
    "    \"\"\"\n",
    "    model - обученная нейронная сеть\n",
    "    dataloader - даталоадер, на котором вы хотите посчитать accuracy\n",
    "    \"\"\"\n",
    "    model = model.to(device)\n",
    "    correct = 0\n",
    "    total = 0\n",
    "    with torch.no_grad(): # Тензоры внутри этого блока будут иметь requires_grad=False\n",
    "        for images, labels in dataloader:\n",
    "            images=images.to(device)\n",
    "            labels = labels.to(device)\n",
    "            outputs = model(images)\n",
    "            _, predicted = torch.max(outputs.data, 1)\n",
    "            total += labels.size(0)\n",
    "            # print(labels)\n",
    "            correct += (predicted == labels).sum().item()\n",
    "    accuracy = correct / total\n",
    "\n",
    "    return accuracy"
   ]
  },
  {
   "cell_type": "code",
   "execution_count": 59,
   "id": "4cced242-f0ec-406d-ab22-61167c66ac70",
   "metadata": {},
   "outputs": [],
   "source": [
    "fc_net = FCNet().to(device)\n",
    "\n",
    "\n",
    "loss_function = nn.CrossEntropyLoss()\n",
    "lr = 0.01 \n",
    "optimizer = torch.optim.Adam(fc_net.parameters(), lr=lr)"
   ]
  },
  {
   "cell_type": "code",
   "execution_count": 62,
   "id": "6f607a0b-72f6-4065-897a-32a31a185c17",
   "metadata": {},
   "outputs": [
    {
     "name": "stdout",
     "output_type": "stream",
     "text": [
      "Epoch 1/10, Train Loss: 0.6872, Train Accuracy: 0.5530, Test Accuracy: 0.5659\n",
      "Epoch 2/10, Train Loss: 0.6874, Train Accuracy: 0.5530, Test Accuracy: 0.5659\n",
      "Epoch 3/10, Train Loss: 0.6874, Train Accuracy: 0.5530, Test Accuracy: 0.5659\n",
      "Epoch 4/10, Train Loss: 0.6873, Train Accuracy: 0.5530, Test Accuracy: 0.5659\n",
      "Epoch 5/10, Train Loss: 0.6872, Train Accuracy: 0.5530, Test Accuracy: 0.5659\n",
      "Epoch 6/10, Train Loss: 0.6875, Train Accuracy: 0.5530, Test Accuracy: 0.5659\n",
      "Epoch 7/10, Train Loss: 0.6875, Train Accuracy: 0.5530, Test Accuracy: 0.5659\n",
      "Epoch 8/10, Train Loss: 0.6872, Train Accuracy: 0.5530, Test Accuracy: 0.5659\n",
      "Epoch 9/10, Train Loss: 0.6874, Train Accuracy: 0.5530, Test Accuracy: 0.5659\n",
      "Epoch 10/10, Train Loss: 0.6875, Train Accuracy: 0.5530, Test Accuracy: 0.5659\n",
      "Training complited!\n"
     ]
    }
   ],
   "source": [
    "n_epochs = 10\n",
    "loss_history = []\n",
    "fc_net.to(device)\n",
    "\n",
    "\n",
    "optimizer = torch.optim.Adam(fc_net.parameters(), lr=3e-10)\n",
    "\n",
    "for epoch in range(n_epochs):\n",
    "    fc_net.train()\n",
    "    curr_loss = 0.0\n",
    "    for batch in train_loader:\n",
    "        # batch.shape\n",
    "        im, lab = tuple(t.to(device) for t in batch)\n",
    "        fc_net = fc_net.to(device)\n",
    "        # print(im)\n",
    "        optimizer.zero_grad()\n",
    "        outputs = fc_net(im)\n",
    "        # print(outputs)\n",
    "        loss = loss_function(outputs, lab.long())\n",
    "\n",
    "        loss.backward()\n",
    "        optimizer.step()\n",
    "\n",
    "        curr_loss += loss.item()\n",
    "\n",
    "    tr_loss = curr_loss / len(train_loader)\n",
    "    tr_accuracy = get_accuracy(fc_net, train_loader)\n",
    "    test_accuracy = get_accuracy(fc_net, test_loader)\n",
    "\n",
    "    print(f\"Epoch {epoch+1}/{n_epochs}, \"\n",
    "          f\"Train Loss: {tr_loss:.4f}, \"\n",
    "          f\"Train Accuracy: {tr_accuracy:.4f}, \"\n",
    "          f\"Test Accuracy: {test_accuracy:.4f}\")\n",
    "\n",
    "print(\"Training complited!\")"
   ]
  },
  {
   "cell_type": "code",
   "execution_count": 66,
   "id": "aed7e34d-3aed-480d-867f-22e4a0d683b3",
   "metadata": {},
   "outputs": [],
   "source": [
    "model.eval()\n",
    "correct = 0\n",
    "total = 0\n",
    "\n",
    "with torch.no_grad():\n",
    "    for tens, labels in test_loader:\n",
    "        outputs = fc_net(tens)\n",
    "        _, predicted = torch.max(outputs.data, 1)\n",
    "        total += labels.size(0)\n",
    "        # print(predicted)\n",
    "        # print(labels)\n",
    "        correct += (predicted == labels).sum().item()\n",
    "    \n",
    "accuracy = correct / total"
   ]
  },
  {
   "cell_type": "code",
   "execution_count": 67,
   "id": "9e603f0f-0878-4f71-b24a-0e70b78e82bb",
   "metadata": {},
   "outputs": [
    {
     "name": "stdout",
     "output_type": "stream",
     "text": [
      "Accuracy on test set: 56.59223817118554%\n"
     ]
    }
   ],
   "source": [
    "print(f\"Accuracy on test set: {100*correct / total}%\")\n"
   ]
  },
  {
   "cell_type": "code",
   "execution_count": null,
   "id": "f6a1e2b4-8383-452f-b022-ec3d46760f1c",
   "metadata": {},
   "outputs": [],
   "source": []
  },
  {
   "cell_type": "code",
   "execution_count": 70,
   "id": "0e5cdd6e-e8a3-40a4-aea2-96c3e3640956",
   "metadata": {},
   "outputs": [],
   "source": [
    "device = 'cuda'\n",
    "\n"
   ]
  },
  {
   "cell_type": "code",
   "execution_count": 79,
   "id": "0c5bee5e-383e-4769-b6ef-ef998d71ceaf",
   "metadata": {},
   "outputs": [
    {
     "name": "stdout",
     "output_type": "stream",
     "text": [
      "Epoch [1/20], Loss: 51.924097664543524\n",
      "Epoch [2/20], Loss: 51.877653927813164\n",
      "Epoch [3/20], Loss: 51.78476645435244\n",
      "Epoch [4/20], Loss: 51.73832271762208\n",
      "Epoch [5/20], Loss: 51.877653927813164\n",
      "Epoch [6/20], Loss: 51.73832271762208\n",
      "Epoch [7/20], Loss: 51.8312101910828\n",
      "Epoch [8/20], Loss: 51.877653927813164\n",
      "Epoch [9/20], Loss: 51.877653927813164\n",
      "Epoch [10/20], Loss: 51.8312101910828\n",
      "Epoch [11/20], Loss: 51.8312101910828\n",
      "Epoch [12/20], Loss: 51.8312101910828\n",
      "Epoch [13/20], Loss: 51.8312101910828\n",
      "Epoch [14/20], Loss: 51.877653927813164\n",
      "Epoch [15/20], Loss: 51.8312101910828\n",
      "Epoch [16/20], Loss: 51.8312101910828\n",
      "Epoch [17/20], Loss: 51.78476645435244\n",
      "Epoch [18/20], Loss: 51.8312101910828\n",
      "Epoch [19/20], Loss: 51.78476645435244\n",
      "Epoch [20/20], Loss: 51.8312101910828\n"
     ]
    }
   ],
   "source": [
    "input_size = 768 *2 \n",
    "hidden_size = 128  \n",
    "output_size = 2  \n",
    "model = SimpleClassifier(input_size, hidden_size, output_size).to(device)\n",
    "criterion = nn.BCELoss()\n",
    "optimizer = optim.Adam(model.parameters(), lr=3e-5)\n",
    "\n",
    "model = model.to(device)\n",
    "num_epochs = 20\n",
    "for epoch in range(num_epochs):\n",
    "    model.train()\n",
    "    running_loss = 0.0\n",
    "    for inputs, labels in train_loader:\n",
    "        # print(labels)\n",
    "        inputs = inputs.view(-1, input_size).to(device)  \n",
    "        optimizer.zero_grad()\n",
    "        outputs = model(inputs)\n",
    "        # print(torch.argmax(outputs, dim =1).float())\n",
    "        # print(labels)\n",
    "        loss = criterion(torch.argmax(outputs, dim =1).squeeze().float(), labels)\n",
    "        loss.requires_grad = True\n",
    "        loss.backward()\n",
    "        optimizer.step()\n",
    "        running_loss += loss.item()\n",
    "    print(f\"Epoch [{epoch+1}/{num_epochs}], Loss: {running_loss/len(train_loader)}\")\n",
    "\n",
    "# Evaluate the model\n",
    "\n"
   ]
  },
  {
   "cell_type": "code",
   "execution_count": 80,
   "id": "e4a5a93b-a31d-477d-870c-297b9880ca3c",
   "metadata": {},
   "outputs": [],
   "source": [
    "model.eval()\n",
    "correct = 0\n",
    "total = 0\n",
    "with torch.no_grad():\n",
    "    for inputs, labels in test_loader:\n",
    "        inputs = inputs.view(-1, input_size).to(device)  # Flatten the input tensor\n",
    "        outputs = model(inputs)\n",
    "        predicted = torch.argmax(outputs, dim =1).squeeze().float()\n",
    "        # print(predicted.view(-1))\n",
    "        total += labels.size(0)\n",
    "        correct += (predicted == labels).sum().item()\n"
   ]
  },
  {
   "cell_type": "code",
   "execution_count": 81,
   "id": "73a514d8-0dbe-47f0-a161-5cc95bfe36f8",
   "metadata": {},
   "outputs": [
    {
     "name": "stdout",
     "output_type": "stream",
     "text": [
      "Accuracy on test set: 48.165869218500795%\n"
     ]
    }
   ],
   "source": [
    "print(f\"Accuracy on test set: {100*correct / total}%\")\n"
   ]
  },
  {
   "cell_type": "code",
   "execution_count": null,
   "id": "6d97c2c7-69bd-40c1-86a0-ec456c20edb2",
   "metadata": {},
   "outputs": [],
   "source": []
  }
 ],
 "metadata": {
  "kernelspec": {
   "display_name": "Python [conda env:.conda-ft]",
   "language": "python",
   "name": "conda-env-.conda-ft-py"
  },
  "language_info": {
   "codemirror_mode": {
    "name": "ipython",
    "version": 3
   },
   "file_extension": ".py",
   "mimetype": "text/x-python",
   "name": "python",
   "nbconvert_exporter": "python",
   "pygments_lexer": "ipython3",
   "version": "3.9.18"
  }
 },
 "nbformat": 4,
 "nbformat_minor": 5
}
