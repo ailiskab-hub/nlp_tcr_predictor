{
 "cells": [
  {
   "cell_type": "code",
   "execution_count": 2,
   "id": "da20f389-60c2-46cc-9fea-9e538713eda4",
   "metadata": {},
   "outputs": [
    {
     "name": "stdout",
     "output_type": "stream",
     "text": [
      "There are 1 GPU(s) available.\n",
      "We will use the GPU: Tesla V100S-PCIE-32GB\n"
     ]
    }
   ],
   "source": [
    "import numpy as np\n",
    "import pandas as pd\n",
    "import matplotlib.pyplot as plt\n",
    "import seaborn as sns\n",
    "import re\n",
    "import time\n",
    "import datetime\n",
    "import random\n",
    "import torch\n",
    "\n",
    "\n",
    "from transformers import BertForSequenceClassification, BertConfig\n",
    "from sklearn.metrics import f1_score\n",
    "\n",
    "if torch.cuda.is_available():\n",
    "    device = torch.device(\"cuda\")\n",
    "    print('There are %d GPU(s) available.' % torch.cuda.device_count())\n",
    "    print('We will use the GPU:', torch.cuda.get_device_name(0))\n",
    "\n",
    "else:\n",
    "    print('No GPU available, using the CPU instead.')\n",
    "    device = torch.device(\"cpu\")\n",
    "    \n",
    "from transformers import BertTokenizer\n",
    "from my_model import CustomModel "
   ]
  },
  {
   "cell_type": "code",
   "execution_count": 3,
   "id": "6d0bfa02-8cf5-4353-abdb-892af7fdd90d",
   "metadata": {},
   "outputs": [],
   "source": [
    "seed_val = 42\n",
    "random.seed(seed_val)\n",
    "np.random.seed(seed_val)\n",
    "torch.manual_seed(seed_val)\n",
    "torch.cuda.manual_seed_all(seed_val)"
   ]
  },
  {
   "cell_type": "code",
   "execution_count": 4,
   "id": "cf1f1ab3-855c-4f3a-858c-1af131dcac86",
   "metadata": {},
   "outputs": [],
   "source": [
    "def add_spaces(seq):\n",
    "     return ' '.join(list(seq))"
   ]
  },
  {
   "cell_type": "markdown",
   "id": "c322b27b-1db1-44b1-8d98-19cb53c8d08a",
   "metadata": {},
   "source": [
    "Данные по альфа и бета цепи из реальных доноров"
   ]
  },
  {
   "cell_type": "code",
   "execution_count": 5,
   "id": "e836eecb-1a79-439f-9cb1-6049eae7ecbf",
   "metadata": {},
   "outputs": [],
   "source": [
    "alpha_data = pd.read_csv('nlp_tcr_predictor/data/selected_cdr_alpha_440002200808_S159_L002.csv', index_col=0)\n",
    "beta_data = pd.read_csv('nlp_tcr_predictor/data/selected_cdr_beta_440001980101_S87_L001.csv', index_col=0)"
   ]
  },
  {
   "cell_type": "code",
   "execution_count": 6,
   "id": "9100ddc0-8ec4-409d-bb1e-7b925da953fe",
   "metadata": {},
   "outputs": [
    {
     "name": "stdout",
     "output_type": "stream",
     "text": [
      "Dataset of alpha chain size (23065, 4)\n",
      "Dataset of beta chain size (34345, 5)\n"
     ]
    }
   ],
   "source": [
    "alpha_data['type'] = 0\n",
    "alpha_data.head()\n",
    "print(f'Dataset of alpha chain size {alpha_data.shape}')\n",
    "\n",
    "beta_data['type'] = 1\n",
    "beta_data.head()\n",
    "print(f'Dataset of beta chain size {beta_data.shape}')"
   ]
  },
  {
   "cell_type": "code",
   "execution_count": 7,
   "id": "13119276-903e-415f-a286-45f92dee0598",
   "metadata": {},
   "outputs": [],
   "source": [
    "compl_df = pd.concat([alpha_data[['cdr3aa', 'type']], beta_data[['cdr3aa', 'type']]], ignore_index=True)"
   ]
  },
  {
   "cell_type": "code",
   "execution_count": 7,
   "id": "b776378e-6bc2-40cb-a143-cba647996750",
   "metadata": {},
   "outputs": [
    {
     "data": {
      "text/html": [
       "<div>\n",
       "<style scoped>\n",
       "    .dataframe tbody tr th:only-of-type {\n",
       "        vertical-align: middle;\n",
       "    }\n",
       "\n",
       "    .dataframe tbody tr th {\n",
       "        vertical-align: top;\n",
       "    }\n",
       "\n",
       "    .dataframe thead th {\n",
       "        text-align: right;\n",
       "    }\n",
       "</style>\n",
       "<table border=\"1\" class=\"dataframe\">\n",
       "  <thead>\n",
       "    <tr style=\"text-align: right;\">\n",
       "      <th></th>\n",
       "      <th>cdr3aa</th>\n",
       "      <th>type</th>\n",
       "    </tr>\n",
       "  </thead>\n",
       "  <tbody>\n",
       "    <tr>\n",
       "      <th>0</th>\n",
       "      <td>CAETRGAGNMLTF</td>\n",
       "      <td>0</td>\n",
       "    </tr>\n",
       "    <tr>\n",
       "      <th>1</th>\n",
       "      <td>CAGNTGGFKTIF</td>\n",
       "      <td>0</td>\n",
       "    </tr>\n",
       "    <tr>\n",
       "      <th>2</th>\n",
       "      <td>CAVEDGQKLLF</td>\n",
       "      <td>0</td>\n",
       "    </tr>\n",
       "    <tr>\n",
       "      <th>3</th>\n",
       "      <td>CAVSEPFGNEKLTF</td>\n",
       "      <td>0</td>\n",
       "    </tr>\n",
       "    <tr>\n",
       "      <th>4</th>\n",
       "      <td>CATDPNTGNQFYF</td>\n",
       "      <td>0</td>\n",
       "    </tr>\n",
       "    <tr>\n",
       "      <th>...</th>\n",
       "      <td>...</td>\n",
       "      <td>...</td>\n",
       "    </tr>\n",
       "    <tr>\n",
       "      <th>57405</th>\n",
       "      <td>CASSLRPQHF</td>\n",
       "      <td>1</td>\n",
       "    </tr>\n",
       "    <tr>\n",
       "      <th>57406</th>\n",
       "      <td>CASSDVGYTF</td>\n",
       "      <td>1</td>\n",
       "    </tr>\n",
       "    <tr>\n",
       "      <th>57407</th>\n",
       "      <td>CASRGVGYTF</td>\n",
       "      <td>1</td>\n",
       "    </tr>\n",
       "    <tr>\n",
       "      <th>57408</th>\n",
       "      <td>CSASFVTQYF</td>\n",
       "      <td>1</td>\n",
       "    </tr>\n",
       "    <tr>\n",
       "      <th>57409</th>\n",
       "      <td>CSARGEQFF</td>\n",
       "      <td>1</td>\n",
       "    </tr>\n",
       "  </tbody>\n",
       "</table>\n",
       "<p>57410 rows × 2 columns</p>\n",
       "</div>"
      ],
      "text/plain": [
       "               cdr3aa  type\n",
       "0       CAETRGAGNMLTF     0\n",
       "1        CAGNTGGFKTIF     0\n",
       "2         CAVEDGQKLLF     0\n",
       "3      CAVSEPFGNEKLTF     0\n",
       "4       CATDPNTGNQFYF     0\n",
       "...               ...   ...\n",
       "57405      CASSLRPQHF     1\n",
       "57406      CASSDVGYTF     1\n",
       "57407      CASRGVGYTF     1\n",
       "57408      CSASFVTQYF     1\n",
       "57409       CSARGEQFF     1\n",
       "\n",
       "[57410 rows x 2 columns]"
      ]
     },
     "execution_count": 7,
     "metadata": {},
     "output_type": "execute_result"
    }
   ],
   "source": [
    "compl_df"
   ]
  },
  {
   "cell_type": "code",
   "execution_count": 8,
   "id": "19833ce4-dd37-450b-9089-3aa6324fa286",
   "metadata": {},
   "outputs": [],
   "source": [
    "compl_df['cdr3aa'] = compl_df['cdr3aa'].map(add_spaces)"
   ]
  },
  {
   "cell_type": "code",
   "execution_count": 9,
   "id": "2c0d457f-c673-4863-be6b-b05143b90801",
   "metadata": {},
   "outputs": [
    {
     "data": {
      "text/plain": [
       "<BarContainer object of 2 artists>"
      ]
     },
     "execution_count": 9,
     "metadata": {},
     "output_type": "execute_result"
    },
    {
     "data": {
      "image/png": "[encoded data removed]",
      "text/plain": [
       "<Figure size 432x288 with 1 Axes>"
      ]
     },
     "metadata": {
      "needs_background": "light"
     },
     "output_type": "display_data"
    }
   ],
   "source": [
    "plt.bar(['TRA', 'TRB'], compl_df['type'].value_counts())"
   ]
  },
  {
   "cell_type": "markdown",
   "id": "a8638570-0040-4cac-b089-264182e6f343",
   "metadata": {},
   "source": [
    "There is slight imbalance in the number of objects in the TRA and TRB classes, but probably it won't affect the model quality, because all the classes have enougth observations "
   ]
  },
  {
   "cell_type": "code",
   "execution_count": 9,
   "id": "0a381da1-9ec9-4f79-a6ce-e90572243bde",
   "metadata": {},
   "outputs": [
    {
     "data": {
      "text/html": [
       "<div>\n",
       "<style scoped>\n",
       "    .dataframe tbody tr th:only-of-type {\n",
       "        vertical-align: middle;\n",
       "    }\n",
       "\n",
       "    .dataframe tbody tr th {\n",
       "        vertical-align: top;\n",
       "    }\n",
       "\n",
       "    .dataframe thead th {\n",
       "        text-align: right;\n",
       "    }\n",
       "</style>\n",
       "<table border=\"1\" class=\"dataframe\">\n",
       "  <thead>\n",
       "    <tr style=\"text-align: right;\">\n",
       "      <th></th>\n",
       "      <th>cdr3aa</th>\n",
       "      <th>type</th>\n",
       "    </tr>\n",
       "  </thead>\n",
       "  <tbody>\n",
       "    <tr>\n",
       "      <th>0</th>\n",
       "      <td>C A E T R G A G N M L T F</td>\n",
       "      <td>0</td>\n",
       "    </tr>\n",
       "    <tr>\n",
       "      <th>1</th>\n",
       "      <td>C A G N T G G F K T I F</td>\n",
       "      <td>0</td>\n",
       "    </tr>\n",
       "    <tr>\n",
       "      <th>2</th>\n",
       "      <td>C A V E D G Q K L L F</td>\n",
       "      <td>0</td>\n",
       "    </tr>\n",
       "    <tr>\n",
       "      <th>3</th>\n",
       "      <td>C A V S E P F G N E K L T F</td>\n",
       "      <td>0</td>\n",
       "    </tr>\n",
       "    <tr>\n",
       "      <th>4</th>\n",
       "      <td>C A F L N N A G N M L T F</td>\n",
       "      <td>0</td>\n",
       "    </tr>\n",
       "  </tbody>\n",
       "</table>\n",
       "</div>"
      ],
      "text/plain": [
       "                        cdr3aa  type\n",
       "0    C A E T R G A G N M L T F     0\n",
       "1      C A G N T G G F K T I F     0\n",
       "2        C A V E D G Q K L L F     0\n",
       "3  C A V S E P F G N E K L T F     0\n",
       "4    C A F L N N A G N M L T F     0"
      ]
     },
     "execution_count": 9,
     "metadata": {},
     "output_type": "execute_result"
    }
   ],
   "source": [
    "test_dataset = compl_df.sample(frac=0.15)\n",
    "compl_df = compl_df.drop(test_dataset.index)\n",
    "compl_df = compl_df.reset_index(drop=True)\n",
    "compl_df.head()"
   ]
  },
  {
   "cell_type": "code",
   "execution_count": 10,
   "id": "4df3258a-524d-42ec-ab77-2e348c6ec272",
   "metadata": {},
   "outputs": [],
   "source": [
    "ans = test_dataset['type']\n",
    "test_dataset = test_dataset.drop(columns=['type'])\n",
    "test_dataset = test_dataset.reset_index(drop=True)"
   ]
  },
  {
   "cell_type": "markdown",
   "id": "12392954-e1c5-4ff0-ae13-0a9a4a1997cb",
   "metadata": {},
   "source": [
    "# TCR transformer model"
   ]
  },
  {
   "cell_type": "code",
   "execution_count": 12,
   "id": "c9ed43ee-de10-46eb-b661-1521b4083e64",
   "metadata": {},
   "outputs": [],
   "source": [
    "tokenizer = BertTokenizer.from_pretrained(\"wukevin/tcr-bert\", do_lower_case=False )"
   ]
  },
  {
   "cell_type": "code",
   "execution_count": 13,
   "id": "0e125113-b2bd-44ab-bbad-43835ded435c",
   "metadata": {},
   "outputs": [
    {
     "name": "stdout",
     "output_type": "stream",
     "text": [
      " Original:  CAETRGAGNMLTF\n",
      "Tokenized:  ['C', 'A', 'E', 'T', 'R', 'G', 'A', 'G', 'N', 'M', 'L', 'T', 'F']\n",
      "Token IDs:  [9, 13, 4, 6, 0, 11, 13, 11, 7, 17, 16, 6, 18]\n"
     ]
    }
   ],
   "source": [
    "print(' Original: ', alpha_data.iloc[0, 0])\n",
    "print('Tokenized: ', tokenizer.tokenize(compl_df.iloc[0, 0]))\n",
    "print('Token IDs: ', tokenizer.convert_tokens_to_ids(tokenizer.tokenize(compl_df.iloc[0, 0])))"
   ]
  },
  {
   "cell_type": "code",
   "execution_count": 14,
   "id": "1714df53-ddb6-4e94-b453-99a0ae134b7a",
   "metadata": {},
   "outputs": [
    {
     "name": "stdout",
     "output_type": "stream",
     "text": [
      "Max seq length:  22\n"
     ]
    }
   ],
   "source": [
    "max_len = 0\n",
    "for seq in compl_df['cdr3aa']:\n",
    "    input_ids = tokenizer.encode(seq, add_special_tokens=True)\n",
    "    max_len = max(max_len, len(input_ids))\n",
    "print('Max seq length: ', max_len)"
   ]
  },
  {
   "cell_type": "code",
   "execution_count": 15,
   "id": "de8ed1d2-1f2f-4e08-9a71-2aa9649aa2b4",
   "metadata": {},
   "outputs": [],
   "source": [
    "from transformers import BertForSequenceClassification, AdamW, BertConfig"
   ]
  },
  {
   "cell_type": "code",
   "execution_count": 18,
   "id": "0b8a4bf1-b8dd-4e35-b1cf-8c421f0243b7",
   "metadata": {},
   "outputs": [
    {
     "name": "stderr",
     "output_type": "stream",
     "text": [
      "Some weights of BertForSequenceClassification were not initialized from the model checkpoint at wukevin/tcr-bert and are newly initialized because the shapes did not match:\n",
      "- classifier.weight: found shape torch.Size([45, 768]) in the checkpoint and torch.Size([2, 768]) in the model instantiated\n",
      "- classifier.bias: found shape torch.Size([45]) in the checkpoint and torch.Size([2]) in the model instantiated\n",
      "You should probably TRAIN this model on a down-stream task to be able to use it for predictions and inference.\n"
     ]
    }
   ],
   "source": [
    "tcr_bert_tokenizer = BertTokenizer.from_pretrained(\"wukevin/tcr-bert\", do_lower_case=False );\n",
    "tcr_bert_model = BertForSequenceClassification.from_pretrained(\"wukevin/tcr-bert\",\n",
    "    num_labels = 2,\n",
    "    ignore_mismatched_sizes=True,\n",
    "    output_attentions = False,\n",
    "    output_hidden_states = False);\n",
    "\n",
    "tcr_bert_model.cuda();"
   ]
  },
  {
   "cell_type": "code",
   "execution_count": 19,
   "id": "11d4b9a5-08a2-45df-a03b-abc1acaae817",
   "metadata": {},
   "outputs": [],
   "source": [
    "my_model = CustomModel(tcr_bert_tokenizer, tcr_bert_model);"
   ]
  },
  {
   "cell_type": "code",
   "execution_count": 20,
   "id": "7522e6f5-40dc-4ba6-8f14-f28e2fb71681",
   "metadata": {},
   "outputs": [
    {
     "name": "stderr",
     "output_type": "stream",
     "text": [
      "Truncation was not explicitly activated but `max_length` is provided a specific value, please use `truncation=True` to explicitly truncate examples to max length. Defaulting to 'longest_first' truncation strategy. If you encode pairs of sequences (GLUE-style) with the tokenizer you can select this strategy more precisely by providing a specific strategy to `truncation`.\n",
      "/home/akabalina/.local/lib/python3.8/site-packages/transformers/tokenization_utils_base.py:2619: FutureWarning: The `pad_to_max_length` argument is deprecated and will be removed in a future version, use `padding=True` or `padding='longest'` to pad to the longest sequence in the batch, or use `padding='max_length'` to pad to a max length. In this case, you can give a specific length with `max_length` (e.g. `max_length=45`) or leave max_length to None to pad to the maximal input size of the model (e.g. 512 for Bert).\n",
      "  warnings.warn(\n"
     ]
    },
    {
     "name": "stdout",
     "output_type": "stream",
     "text": [
      "Original:  C A E T R G A G N M L T F\n",
      "Token IDs: tensor([25,  9, 13,  4,  6,  0, 11, 13, 11,  7, 17, 16,  6, 18, 24, 21, 21, 21,\n",
      "        21, 21, 21, 21])\n"
     ]
    }
   ],
   "source": [
    "input_ids, attention_masks, labels = my_model.tokenize(compl_df['cdr3aa'], compl_df['type']);\n",
    "\n",
    "print('Original: ', compl_df.iloc[0, 0])\n",
    "print('Token IDs:', input_ids[0])"
   ]
  },
  {
   "cell_type": "code",
   "execution_count": 21,
   "id": "0e22fecb-7a03-42fe-bc62-73d616f427e1",
   "metadata": {},
   "outputs": [
    {
     "name": "stdout",
     "output_type": "stream",
     "text": [
      "39,038 training samples\n",
      "9,760 validation samples\n"
     ]
    }
   ],
   "source": [
    "train_dataset, val_dataset = my_model.split_data(input_ids, attention_masks, labels)"
   ]
  },
  {
   "cell_type": "code",
   "execution_count": 33,
   "id": "01b8bae7-5406-4e70-8621-881054bcbbc7",
   "metadata": {},
   "outputs": [
    {
     "name": "stdout",
     "output_type": "stream",
     "text": [
      "\n",
      "======== Epoch 1 / 4 ========\n",
      "Training...\n",
      "\n",
      "  Average training loss: 0.01\n",
      "  Training epcoh took: 0:02:05\n",
      "\n",
      "Running Validation...\n",
      "  Accuracy: 1.00\n",
      "  Validation Loss: 0.00\n",
      "  Validation took: 0:00:05\n",
      "\n",
      "======== Epoch 2 / 4 ========\n",
      "Training...\n",
      "\n",
      "  Average training loss: 0.00\n",
      "  Training epcoh took: 0:02:04\n",
      "\n",
      "Running Validation...\n",
      "  Accuracy: 1.00\n",
      "  Validation Loss: 0.00\n",
      "  Validation took: 0:00:05\n",
      "\n",
      "======== Epoch 3 / 4 ========\n",
      "Training...\n",
      "\n",
      "  Average training loss: 0.00\n",
      "  Training epcoh took: 0:02:04\n",
      "\n",
      "Running Validation...\n",
      "  Accuracy: 1.00\n",
      "  Validation Loss: 0.00\n",
      "  Validation took: 0:00:05\n",
      "\n",
      "======== Epoch 4 / 4 ========\n",
      "Training...\n",
      "\n",
      "  Average training loss: 0.00\n",
      "  Training epcoh took: 0:01:50\n",
      "\n",
      "Running Validation...\n",
      "  Accuracy: 1.00\n",
      "  Validation Loss: 0.00\n",
      "  Validation took: 0:00:05\n",
      "\n",
      "Training complete!\n"
     ]
    }
   ],
   "source": [
    "my_model.fit(train_dataset, val_dataset)"
   ]
  },
  {
   "cell_type": "code",
   "execution_count": 34,
   "id": "0da389a0-1c2e-481b-9249-0aa1aa75dfde",
   "metadata": {},
   "outputs": [
    {
     "data": {
      "text/html": [
       "<div>\n",
       "<style scoped>\n",
       "    .dataframe tbody tr th:only-of-type {\n",
       "        vertical-align: middle;\n",
       "    }\n",
       "\n",
       "    .dataframe tbody tr th {\n",
       "        vertical-align: top;\n",
       "    }\n",
       "\n",
       "    .dataframe thead th {\n",
       "        text-align: right;\n",
       "    }\n",
       "</style>\n",
       "<table border=\"1\" class=\"dataframe\">\n",
       "  <thead>\n",
       "    <tr style=\"text-align: right;\">\n",
       "      <th></th>\n",
       "      <th>Training Loss</th>\n",
       "      <th>Valid. Loss</th>\n",
       "      <th>Valid. Accur.</th>\n",
       "      <th>Training Time</th>\n",
       "      <th>Validation Time</th>\n",
       "    </tr>\n",
       "    <tr>\n",
       "      <th>epoch</th>\n",
       "      <th></th>\n",
       "      <th></th>\n",
       "      <th></th>\n",
       "      <th></th>\n",
       "      <th></th>\n",
       "    </tr>\n",
       "  </thead>\n",
       "  <tbody>\n",
       "    <tr>\n",
       "      <th>1</th>\n",
       "      <td>0.008419</td>\n",
       "      <td>0.001410</td>\n",
       "      <td>0.999795</td>\n",
       "      <td>0:02:05</td>\n",
       "      <td>0:00:05</td>\n",
       "    </tr>\n",
       "    <tr>\n",
       "      <th>2</th>\n",
       "      <td>0.002827</td>\n",
       "      <td>0.000634</td>\n",
       "      <td>0.999795</td>\n",
       "      <td>0:02:04</td>\n",
       "      <td>0:00:05</td>\n",
       "    </tr>\n",
       "    <tr>\n",
       "      <th>3</th>\n",
       "      <td>0.001181</td>\n",
       "      <td>0.000693</td>\n",
       "      <td>0.999795</td>\n",
       "      <td>0:02:04</td>\n",
       "      <td>0:00:05</td>\n",
       "    </tr>\n",
       "    <tr>\n",
       "      <th>4</th>\n",
       "      <td>0.000513</td>\n",
       "      <td>0.000004</td>\n",
       "      <td>1.000000</td>\n",
       "      <td>0:01:50</td>\n",
       "      <td>0:00:05</td>\n",
       "    </tr>\n",
       "  </tbody>\n",
       "</table>\n",
       "</div>"
      ],
      "text/plain": [
       "       Training Loss  Valid. Loss  Valid. Accur. Training Time Validation Time\n",
       "epoch                                                                         \n",
       "1           0.008419     0.001410       0.999795       0:02:05         0:00:05\n",
       "2           0.002827     0.000634       0.999795       0:02:04         0:00:05\n",
       "3           0.001181     0.000693       0.999795       0:02:04         0:00:05\n",
       "4           0.000513     0.000004       1.000000       0:01:50         0:00:05"
      ]
     },
     "execution_count": 34,
     "metadata": {},
     "output_type": "execute_result"
    }
   ],
   "source": [
    "my_model.get_stats()"
   ]
  },
  {
   "cell_type": "code",
   "execution_count": 35,
   "id": "cf7d6584-9033-45ba-9741-564e817c9124",
   "metadata": {},
   "outputs": [
    {
     "data": {
      "image/png": "[encoded data removed]",
      "text/plain": [
       "<Figure size 864x432 with 1 Axes>"
      ]
     },
     "metadata": {
      "needs_background": "light"
     },
     "output_type": "display_data"
    }
   ],
   "source": [
    "my_model.draw_stats_plot()"
   ]
  },
  {
   "cell_type": "code",
   "execution_count": 36,
   "id": "e862bcd6-bf90-4d7f-bef4-8a18a148d458",
   "metadata": {},
   "outputs": [
    {
     "name": "stderr",
     "output_type": "stream",
     "text": [
      "/home/akabalina/.local/lib/python3.8/site-packages/transformers/tokenization_utils_base.py:2619: FutureWarning: The `pad_to_max_length` argument is deprecated and will be removed in a future version, use `padding=True` or `padding='longest'` to pad to the longest sequence in the batch, or use `padding='max_length'` to pad to a max length. In this case, you can give a specific length with `max_length` (e.g. `max_length=45`) or leave max_length to None to pad to the maximal input size of the model (e.g. 512 for Bert).\n",
      "  warnings.warn(\n"
     ]
    }
   ],
   "source": [
    "pred_labels = my_model.predict(test_dataset['cdr3aa'])"
   ]
  },
  {
   "cell_type": "code",
   "execution_count": 40,
   "id": "df5c877b-3560-463e-bd85-f40df60fe3f5",
   "metadata": {},
   "outputs": [
    {
     "name": "stdout",
     "output_type": "stream",
     "text": [
      "Total f1_score: 0.99971\n"
     ]
    }
   ],
   "source": [
    "f1_sc = f1_score(ans, pred_labels)\n",
    "print('Total f1_score: %.5f' % f1_sc)"
   ]
  },
  {
   "cell_type": "code",
   "execution_count": null,
   "id": "c872f0c7-44e6-4e41-977c-7a223c362300",
   "metadata": {},
   "outputs": [],
   "source": []
  },
  {
   "cell_type": "code",
   "execution_count": null,
   "id": "344403a4-a1ac-43e7-89e0-5335ad4cb385",
   "metadata": {},
   "outputs": [],
   "source": []
  },
  {
   "cell_type": "markdown",
   "id": "357b181e-deb4-42f8-8aca-ce3c5f0fabae",
   "metadata": {},
   "source": [
    "# ProtTrans model"
   ]
  },
  {
   "cell_type": "code",
   "execution_count": null,
   "id": "1812c85c-1f0d-42d0-ba3b-f7fc4b6bce66",
   "metadata": {},
   "outputs": [
    {
     "data": {
      "application/vnd.jupyter.widget-view+json": {
       "model_id": "6f54783ff9a445ccbe21bc7eaebba85c",
       "version_major": 2,
       "version_minor": 0
      },
      "text/plain": [
       "spiece.model:   0%|          | 0.00/238k [00:00<?, ?B/s]"
      ]
     },
     "metadata": {},
     "output_type": "display_data"
    },
    {
     "name": "stderr",
     "output_type": "stream",
     "text": [
      "You are using the default legacy behaviour of the <class 'transformers.models.t5.tokenization_t5.T5Tokenizer'>. This is expected, and simply means that the `legacy` (previous) behavior will be used so nothing changes for you. If you want to use the new behaviour, set `legacy=False`. This should only be set if you understand what it means, and thoroughly read the reason why this was added as explained in https://github.com/huggingface/transformers/pull/24565\n"
     ]
    },
    {
     "data": {
      "application/vnd.jupyter.widget-view+json": {
       "model_id": "052a2b41656d4833aa884de0acdeeabf",
       "version_major": 2,
       "version_minor": 0
      },
      "text/plain": [
       "pytorch_model.bin:   0%|          | 0.00/2.42G [00:00<?, ?B/s]"
      ]
     },
     "metadata": {},
     "output_type": "display_data"
    }
   ],
   "source": [
    "from transformers import T5Tokenizer, T5EncoderModel\n",
    "\n",
    "tokenizer = T5Tokenizer.from_pretrained('Rostlab/prot_t5_xl_half_uniref50-enc', do_lower_case=False)\n",
    "\n",
    "# Load the model\n",
    "model = T5EncoderModel.from_pretrained(\"Rostlab/prot_t5_xl_half_uniref50-enc\").to(device)\n",
    "\n",
    "my_model = CustomModel(tcr_bert_tokenizer, tcr_bert_model)"
   ]
  },
  {
   "cell_type": "code",
   "execution_count": 24,
   "id": "57547edc-8674-4600-a043-64933952bc15",
   "metadata": {},
   "outputs": [
    {
     "name": "stdout",
     "output_type": "stream",
     "text": [
      "Defaulting to user installation because normal site-packages is not writeable\n",
      "Collecting sentencepiece\n",
      "  Downloading sentencepiece-0.1.99-cp38-cp38-manylinux_2_17_x86_64.manylinux2014_x86_64.whl (1.3 MB)\n",
      "\u001b[K     |████████████████████████████████| 1.3 MB 2.5 MB/s eta 0:00:01\n",
      "\u001b[?25hInstalling collected packages: sentencepiece\n",
      "Successfully installed sentencepiece-0.1.99\n",
      "Note: you may need to restart the kernel to use updated packages.\n"
     ]
    }
   ],
   "source": [
    "pip install sentencepiece"
   ]
  },
  {
   "cell_type": "code",
   "execution_count": 31,
   "id": "3935ab49-b991-4498-86e4-89c0c7396e51",
   "metadata": {},
   "outputs": [],
   "source": [
    "import sentencepiece as spm"
   ]
  },
  {
   "cell_type": "code",
   "execution_count": 27,
   "id": "c1ff11a7-a5b4-440a-ad8f-a979b145189f",
   "metadata": {},
   "outputs": [
    {
     "name": "stdout",
     "output_type": "stream",
     "text": [
      "Defaulting to user installation because normal site-packages is not writeable\n",
      "Requirement already satisfied: protobuf in ./.local/lib/python3.8/site-packages (4.25.2)\n",
      "Note: you may need to restart the kernel to use updated packages.\n"
     ]
    }
   ],
   "source": [
    "pip install protobuf"
   ]
  },
  {
   "cell_type": "code",
   "execution_count": 11,
   "id": "7b0bf297-cdff-4ad7-a826-3f80f28c453e",
   "metadata": {},
   "outputs": [
    {
     "data": {
      "text/html": [
       "<div>\n",
       "<style scoped>\n",
       "    .dataframe tbody tr th:only-of-type {\n",
       "        vertical-align: middle;\n",
       "    }\n",
       "\n",
       "    .dataframe tbody tr th {\n",
       "        vertical-align: top;\n",
       "    }\n",
       "\n",
       "    .dataframe thead th {\n",
       "        text-align: right;\n",
       "    }\n",
       "</style>\n",
       "<table border=\"1\" class=\"dataframe\">\n",
       "  <thead>\n",
       "    <tr style=\"text-align: right;\">\n",
       "      <th></th>\n",
       "      <th>cdr3aa</th>\n",
       "    </tr>\n",
       "  </thead>\n",
       "  <tbody>\n",
       "    <tr>\n",
       "      <th>0</th>\n",
       "      <td>C A S S L A G A G P Y N E Q F F</td>\n",
       "    </tr>\n",
       "    <tr>\n",
       "      <th>1</th>\n",
       "      <td>C A S S F Q G T S S Y Y T F</td>\n",
       "    </tr>\n",
       "    <tr>\n",
       "      <th>2</th>\n",
       "      <td>C A I G I A G G N E Q F F</td>\n",
       "    </tr>\n",
       "    <tr>\n",
       "      <th>3</th>\n",
       "      <td>C A S S L A A S G G R Y T Q Y F</td>\n",
       "    </tr>\n",
       "    <tr>\n",
       "      <th>4</th>\n",
       "      <td>C A L A S Y G N N R L A F</td>\n",
       "    </tr>\n",
       "    <tr>\n",
       "      <th>...</th>\n",
       "      <td>...</td>\n",
       "    </tr>\n",
       "    <tr>\n",
       "      <th>8607</th>\n",
       "      <td>C A S S V L R G P G F D T Q Y F</td>\n",
       "    </tr>\n",
       "    <tr>\n",
       "      <th>8608</th>\n",
       "      <td>C I V G P I G S S N T G K L I F</td>\n",
       "    </tr>\n",
       "    <tr>\n",
       "      <th>8609</th>\n",
       "      <td>C A S S P L Q T N T E A F F</td>\n",
       "    </tr>\n",
       "    <tr>\n",
       "      <th>8610</th>\n",
       "      <td>C A S S S S G G P L P Q H F</td>\n",
       "    </tr>\n",
       "    <tr>\n",
       "      <th>8611</th>\n",
       "      <td>C A S G L E T G N E K L F F</td>\n",
       "    </tr>\n",
       "  </tbody>\n",
       "</table>\n",
       "<p>8612 rows × 1 columns</p>\n",
       "</div>"
      ],
      "text/plain": [
       "                               cdr3aa\n",
       "0     C A S S L A G A G P Y N E Q F F\n",
       "1         C A S S F Q G T S S Y Y T F\n",
       "2           C A I G I A G G N E Q F F\n",
       "3     C A S S L A A S G G R Y T Q Y F\n",
       "4           C A L A S Y G N N R L A F\n",
       "...                               ...\n",
       "8607  C A S S V L R G P G F D T Q Y F\n",
       "8608  C I V G P I G S S N T G K L I F\n",
       "8609      C A S S P L Q T N T E A F F\n",
       "8610      C A S S S S G G P L P Q H F\n",
       "8611      C A S G L E T G N E K L F F\n",
       "\n",
       "[8612 rows x 1 columns]"
      ]
     },
     "execution_count": 11,
     "metadata": {},
     "output_type": "execute_result"
    }
   ],
   "source": [
    "test_dataset"
   ]
  },
  {
   "cell_type": "code",
   "execution_count": null,
   "id": "414e5594-6d17-4645-bd31-7cc4fd05a5ad",
   "metadata": {},
   "outputs": [],
   "source": []
  }
 ],
 "metadata": {
  "kernelspec": {
   "display_name": "Python 3 (ipykernel)",
   "language": "python",
   "name": "python3"
  },
  "language_info": {
   "codemirror_mode": {
    "name": "ipython",
    "version": 3
   },
   "file_extension": ".py",
   "mimetype": "text/x-python",
   "name": "python",
   "nbconvert_exporter": "python",
   "pygments_lexer": "ipython3",
   "version": "3.8.12"
  }
 },
 "nbformat": 4,
 "nbformat_minor": 5
}
